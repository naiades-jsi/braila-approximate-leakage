{
 "cells": [
  {
   "cell_type": "code",
   "execution_count": null,
   "metadata": {},
   "outputs": [],
   "source": [
    "import pandas as pd\n",
    "import numpy as np\n",
    "import plotly.express as px\n",
    "import plotly.graph_objects as go\n",
    "from datetime import timedelta\n",
    "\n",
    "import os\n",
    "import sys\n",
    "module_path = os.path.abspath(os.path.join('./..'))\n",
    "if module_path not in sys.path:\n",
    "    sys.path.append(module_path)\n",
    "\n",
    "from src.data_parsing_and_saving.parsing_functions import parse_data_and_save_to_csv\n",
    "import src.configfile as config"
   ]
  },
  {
   "cell_type": "code",
   "execution_count": null,
   "metadata": {},
   "outputs": [],
   "source": [
    "PUMP_FILES = [\"braila_flow211206H360.csv\", \"braila_flow211306H360.csv\", \"braila_flow318505H498.csv\"]\n",
    "real_data_dict = parse_data_and_save_to_csv(\"./../data/sensor_data/\", config.SENSOR_FILES,\n",
    "                                            PUMP_FILES, \"\")\n",
    "# display(real_data_dict[\"Jonctiune-2749\"])"
   ]
  },
  {
   "cell_type": "code",
   "execution_count": null,
   "metadata": {},
   "outputs": [],
   "source": [
    "pressure_traces_arr = []\n",
    "flow_traces_arr = []\n",
    "\n",
    "for sensor in real_data_dict:\n",
    "    prepared_df = real_data_dict[sensor]\n",
    "    prepared_df = prepared_df.loc[(prepared_df.index > pd.to_datetime(\"2021-07-23 00:00:00\") )]\n",
    "\n",
    "    pressure_traces_arr.append(\n",
    "        go.Scattergl(x=prepared_df.index, \n",
    "               y=prepared_df[\"pressure_value(m)\"],\n",
    "               text=sensor,\n",
    "               name=sensor,\n",
    "               mode=\"lines\")\n",
    "    )\n",
    "    if \"flow_rate_value(m3/h)\" in prepared_df.columns:\n",
    "        flow_traces_arr.append(\n",
    "            go.Scattergl(x=prepared_df.index, \n",
    "                   y=prepared_df[\"flow_rate_value(m3/h)\"],\n",
    "                   text=sensor,\n",
    "                   name=sensor,\n",
    "                   mode=\"lines\")\n",
    "        )"
   ]
  },
  {
   "cell_type": "code",
   "execution_count": null,
   "metadata": {},
   "outputs": [],
   "source": [
    "fig_pressure = go.Figure(data=pressure_traces_arr)    \n",
    "fig_pressure.update_layout(\n",
    "    title=\"Pressure values\",\n",
    "    xaxis_title=\"Hour of the day\",\n",
    "    yaxis_title=\"Pressure value m3/h\",\n",
    ")\n",
    "fig_pressure.show()"
   ]
  },
  {
   "cell_type": "code",
   "execution_count": null,
   "metadata": {},
   "outputs": [],
   "source": []
  },
  {
   "cell_type": "code",
   "execution_count": null,
   "metadata": {},
   "outputs": [],
   "source": [
    "fig_flow = go.Figure(data=flow_traces_arr)    \n",
    "fig_flow.update_layout(\n",
    "    title=\"Flow values\",\n",
    "    xaxis_title=\"Hour of the day\",\n",
    "    yaxis_title=\"Flow rate value m3/h\",\n",
    ")\n",
    "fig_flow.show()"
   ]
  },
  {
   "cell_type": "code",
   "execution_count": null,
   "metadata": {},
   "outputs": [],
   "source": []
  },
  {
   "cell_type": "code",
   "execution_count": null,
   "metadata": {},
   "outputs": [],
   "source": []
  },
  {
   "cell_type": "code",
   "execution_count": null,
   "metadata": {},
   "outputs": [],
   "source": []
  }
 ],
 "metadata": {
  "kernelspec": {
   "display_name": "Python 3 (ipykernel)",
   "language": "python",
   "name": "python3"
  },
  "language_info": {
   "codemirror_mode": {
    "name": "ipython",
    "version": 3
   },
   "file_extension": ".py",
   "mimetype": "text/x-python",
   "name": "python",
   "nbconvert_exporter": "python",
   "pygments_lexer": "ipython3",
   "version": "3.9.7"
  }
 },
 "nbformat": 4,
 "nbformat_minor": 4
}
