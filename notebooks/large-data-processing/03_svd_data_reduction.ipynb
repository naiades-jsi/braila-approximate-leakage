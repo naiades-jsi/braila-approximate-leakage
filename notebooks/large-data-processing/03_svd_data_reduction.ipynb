{
 "cells": [
  {
   "cell_type": "markdown",
   "id": "70c66086",
   "metadata": {},
   "source": [
    "# Reducing input data with SVD"
   ]
  },
  {
   "cell_type": "code",
   "execution_count": null,
   "id": "127e7a06",
   "metadata": {},
   "outputs": [],
   "source": [
    "%reload_ext autoreload\n",
    "%autoreload 2\n",
    "import os\n",
    "import sys\n",
    "import pandas as pd\n",
    "import numpy as np\n",
    "from sklearn.preprocessing import LabelEncoder\n",
    "import plotly.graph_objects as go\n",
    "\n",
    "module_path = os.path.abspath(os.path.join('./../..'))\n",
    "if module_path not in sys.path:\n",
    "    sys.path.append(module_path)\n",
    "    \n",
    "main_df = pd.read_csv(\"simulated_sensor_data_8_cols.csv\")\n",
    "main_df[\"leak_amount\"] = main_df[\"leak_amount\"].str.replace(\"LPS\", \"\").astype(float)"
   ]
  },
  {
   "cell_type": "code",
   "execution_count": null,
   "id": "6e9d8a3d",
   "metadata": {},
   "outputs": [],
   "source": [
    "def prepare_data_for_svd(df):\n",
    "    keep_columns = ['Sensor1', 'Sensor2', 'Sensor3', 'Sensor4', 'J-Apollo', \n",
    "                    'J-RN2','J-RN1', 'encoded_node_with_leak', 'leak_amount']\n",
    "    enc_df, l_enc = encode_df_column(df)\n",
    "    filtered_df = enc_df[keep_columns]\n",
    "    \n",
    "    return filtered_df\n",
    "\n",
    "def encode_df_column(df, col_to_encode=\"node_with_leak\", new_col_name=\"encoded_node_with_leak\"):\n",
    "    label_enc = LabelEncoder()\n",
    "    df[new_col_name] = label_enc.fit_transform(df[col_to_encode])\n",
    "    \n",
    "    return df, label_enc\n",
    "    \n",
    "prepared_df = prepare_data_for_svd(main_df)\n",
    "display(prepared_df)"
   ]
  },
  {
   "cell_type": "code",
   "execution_count": null,
   "id": "35f57b97",
   "metadata": {},
   "outputs": [],
   "source": [
    "prepared_csv_df = prepared_df[['Sensor1', 'Sensor2', 'Sensor3', 'Sensor4', 'J-Apollo', \n",
    "                               'J-RN2','J-RN1', \"encoded_node_with_leak\"]].round(4).drop_duplicates()\n",
    "display(prepared_csv_df)"
   ]
  },
  {
   "cell_type": "markdown",
   "id": "121915a5",
   "metadata": {},
   "source": [
    "## Effect on leak on the pressures of the sensors\n",
    "Chart below indicates that the sensors are linearly effected by the increase in leakage"
   ]
  },
  {
   "cell_type": "code",
   "execution_count": null,
   "id": "c148b787",
   "metadata": {
    "scrolled": false
   },
   "outputs": [],
   "source": [
    "one_node_df = prepared_df[(prepared_df[\"encoded_node_with_leak\"] == 118)]\n",
    "display(one_node_df)\n",
    "\n",
    "for col_name in ['Sensor1', 'Sensor2', 'Sensor3', 'Sensor4', 'J-Apollo', \n",
    "                 'J-RN2','J-RN1']:\n",
    "    fig_avg_g = go.Figure([go.Scatter(x=one_node_df[\"leak_amount\"], y=one_node_df[col_name])])\n",
    "    fig_avg_g.show()"
   ]
  },
  {
   "cell_type": "code",
   "execution_count": null,
   "id": "57114963",
   "metadata": {
    "scrolled": false
   },
   "outputs": [],
   "source": [
    "def plot_leak_correlation_for_every_node(df):\n",
    "    sensor_arr = ['Sensor1', 'Sensor2', 'Sensor3', 'Sensor4', 'J-Apollo', 'J-RN2','J-RN1']\n",
    "    \n",
    "    for col_name in df[\"encoded_node_with_leak\"].unique()[:10]:\n",
    "        print(f\"Chart for effects of leak on node {col_name}\")\n",
    "        # arr_of_nodes, data_df = instance.nodes_which_effect_the_sensors_most(16.0, node)\n",
    "\n",
    "        fig = go.Figure()\n",
    "        for column in sensor_arr:\n",
    "            column_df = df[df[\"encoded_node_with_leak\"] == col_name]\n",
    "            # display(column_df)\n",
    "            fig.add_trace(go.Scattergl(\n",
    "                                    x=[column] * len(column_df), \n",
    "                                    y=column_df[column],\n",
    "                                    text=column_df[\"leak_amount\"],\n",
    "                                    mode='markers',\n",
    "                                    name=column))\n",
    "        fig.update_layout(\n",
    "            title=f\"Leak effect on '{col_name}'\",\n",
    "            xaxis_title=\"Sensor effected\",\n",
    "            yaxis_title=\"Pressure\",\n",
    "        )\n",
    "        fig.show()\n",
    "# plot_leak_correlation_for_every_node(prepared_df)"
   ]
  },
  {
   "cell_type": "code",
   "execution_count": null,
   "id": "2ec1e760",
   "metadata": {
    "scrolled": false
   },
   "outputs": [],
   "source": []
  },
  {
   "cell_type": "markdown",
   "id": "de8eb4e6",
   "metadata": {},
   "source": [
    "## Finding unique rows -> optimal leak step"
   ]
  },
  {
   "cell_type": "code",
   "execution_count": null,
   "id": "ba3765a2",
   "metadata": {},
   "outputs": [],
   "source": [
    "# gauss elimination\n",
    "from scipy.linalg import lu\n",
    "import sympy \n",
    "\n",
    "# np_prepared_arr = prepared_df.to_numpy() \n",
    "one_node_df_1 = prepared_df[(prepared_df[\"encoded_node_with_leak\"] == 100)]\n",
    "display(one_node_df_1)\n",
    "one_node_prep_arr = one_node_df_1.to_numpy() \n",
    "display(one_node_prep_arr, len(one_node_prep_arr))\n",
    "# pl, u = lu(np_prepared_arr, permute_l=True)\n",
    "\n",
    "_, inds = sympy.Matrix(one_node_prep_arr).T.rref() "
   ]
  },
  {
   "cell_type": "code",
   "execution_count": null,
   "id": "d6c7f3ad",
   "metadata": {},
   "outputs": [],
   "source": []
  },
  {
   "cell_type": "code",
   "execution_count": null,
   "id": "190e80ff",
   "metadata": {
    "scrolled": true
   },
   "outputs": [],
   "source": [
    "unique_rows_count = 0\n",
    "for node_val in prepared_df[\"encoded_node_with_leak\"].unique():\n",
    "    print(node_val)\n",
    "    one_node_arr = prepared_df[(prepared_df[\"encoded_node_with_leak\"] == node_val)].to_numpy() \n",
    "    _, inds = sympy.Matrix(one_node_df).T.rref() \n",
    "    unique_rows_count += len(inds)\n",
    "    \n",
    "print(f\"All rows {str(unique_rows_count)}, average {unique_rows_count/len(prepared_df['encoded_node_with_leak'].unique())}\")"
   ]
  },
  {
   "cell_type": "code",
   "execution_count": null,
   "id": "777ead62",
   "metadata": {},
   "outputs": [],
   "source": [
    "display(inds)\n",
    "# prepared_df[(prepared_df[\"encoded_node_with_leak\"] == 118)].iloc[inds, :]\n",
    "one_node_df_1.loc[one_node_df_1.index[list(inds)]]"
   ]
  },
  {
   "cell_type": "code",
   "execution_count": null,
   "id": "2c832885",
   "metadata": {},
   "outputs": [],
   "source": [
    "_, inds = sympy.Matrix(prepared_df.to_numpy() ).T.rref() \n",
    "\n",
    "print(inds[:5], len(inds))"
   ]
  },
  {
   "cell_type": "code",
   "execution_count": null,
   "id": "6c83c435",
   "metadata": {},
   "outputs": [],
   "source": [
    "testing_df = prepared_df[prepared_df[\"leak_amount\"] < 0.6]\n",
    "display(testing_df)\n",
    "# U, s, V = np.linalg.svd(testing_df.T, full_matrices=False)\n",
    "# display(U.shape, s.shape, V.shape)\n",
    "# U, s, V = np.linalg.svd(prepared_df, full_matrices=False)\n",
    "# display(U.shape, s.shape, V.shape)"
   ]
  },
  {
   "cell_type": "code",
   "execution_count": null,
   "id": "6e3fecad",
   "metadata": {},
   "outputs": [],
   "source": []
  }
 ],
 "metadata": {
  "kernelspec": {
   "display_name": "Python [conda env:root] *",
   "language": "python",
   "name": "conda-root-py"
  },
  "language_info": {
   "codemirror_mode": {
    "name": "ipython",
    "version": 3
   },
   "file_extension": ".py",
   "mimetype": "text/x-python",
   "name": "python",
   "nbconvert_exporter": "python",
   "pygments_lexer": "ipython3",
   "version": "3.9.7"
  }
 },
 "nbformat": 4,
 "nbformat_minor": 5
}
