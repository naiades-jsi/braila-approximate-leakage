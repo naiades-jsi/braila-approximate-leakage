{
 "cells": [
  {
   "cell_type": "markdown",
   "id": "e8acb380",
   "metadata": {},
   "source": [
    "## Model testing on prepared data"
   ]
  },
  {
   "cell_type": "code",
   "execution_count": 1,
   "id": "b94ec20b",
   "metadata": {},
   "outputs": [],
   "source": [
    "%reload_ext autoreload\n",
    "%autoreload 2\n",
    "import os\n",
    "import sys\n",
    "import pandas as pd\n",
    "import numpy as np\n",
    "from sklearn.preprocessing import LabelEncoder\n",
    "import plotly.graph_objects as go\n",
    "\n",
    "module_path = os.path.abspath(os.path.join('./../..'))\n",
    "if module_path not in sys.path:\n",
    "    sys.path.append(module_path)\n",
    "from src.multicovariate_models.gmm_functions import predict_groups_gmm, fit_gaussian_mixture_model\n",
    "from src.multicovariate_models.GroupsModelWrapper import GroupsModelWrapper\n",
    "from src.multicovariate_models.DataLoader import DataLoader"
   ]
  },
  {
   "cell_type": "code",
   "execution_count": 2,
   "id": "6a3116e4",
   "metadata": {
    "scrolled": false
   },
   "outputs": [
    {
     "data": {
      "text/html": [
       "<div>\n",
       "<style scoped>\n",
       "    .dataframe tbody tr th:only-of-type {\n",
       "        vertical-align: middle;\n",
       "    }\n",
       "\n",
       "    .dataframe tbody tr th {\n",
       "        vertical-align: top;\n",
       "    }\n",
       "\n",
       "    .dataframe thead th {\n",
       "        text-align: right;\n",
       "    }\n",
       "</style>\n",
       "<table border=\"1\" class=\"dataframe\">\n",
       "  <thead>\n",
       "    <tr style=\"text-align: right;\">\n",
       "      <th></th>\n",
       "      <th>Sensor1</th>\n",
       "      <th>Sensor2</th>\n",
       "      <th>Sensor3</th>\n",
       "      <th>Sensor4</th>\n",
       "      <th>J-Apollo</th>\n",
       "      <th>J-RN2</th>\n",
       "      <th>J-RN1</th>\n",
       "      <th>node_with_leak</th>\n",
       "      <th>leak_amount</th>\n",
       "    </tr>\n",
       "  </thead>\n",
       "  <tbody>\n",
       "    <tr>\n",
       "      <th>0</th>\n",
       "      <td>14.8043</td>\n",
       "      <td>15.9458</td>\n",
       "      <td>17.9639</td>\n",
       "      <td>19.3175</td>\n",
       "      <td>15.4271</td>\n",
       "      <td>15.9506</td>\n",
       "      <td>19.8981</td>\n",
       "      <td>Node_Jonctiune-J-34</td>\n",
       "      <td>0.5LPS</td>\n",
       "    </tr>\n",
       "    <tr>\n",
       "      <th>1</th>\n",
       "      <td>14.8043</td>\n",
       "      <td>15.9458</td>\n",
       "      <td>17.9639</td>\n",
       "      <td>19.3175</td>\n",
       "      <td>15.4271</td>\n",
       "      <td>15.9506</td>\n",
       "      <td>19.8981</td>\n",
       "      <td>Node_Jonctiune-J-34</td>\n",
       "      <td>0.501LPS</td>\n",
       "    </tr>\n",
       "    <tr>\n",
       "      <th>2</th>\n",
       "      <td>14.8043</td>\n",
       "      <td>15.9458</td>\n",
       "      <td>17.9639</td>\n",
       "      <td>19.3174</td>\n",
       "      <td>15.4271</td>\n",
       "      <td>15.9506</td>\n",
       "      <td>19.8981</td>\n",
       "      <td>Node_Jonctiune-J-34</td>\n",
       "      <td>0.502LPS</td>\n",
       "    </tr>\n",
       "    <tr>\n",
       "      <th>3</th>\n",
       "      <td>14.8043</td>\n",
       "      <td>15.9457</td>\n",
       "      <td>17.9639</td>\n",
       "      <td>19.3174</td>\n",
       "      <td>15.4271</td>\n",
       "      <td>15.9506</td>\n",
       "      <td>19.8981</td>\n",
       "      <td>Node_Jonctiune-J-34</td>\n",
       "      <td>0.503LPS</td>\n",
       "    </tr>\n",
       "    <tr>\n",
       "      <th>4</th>\n",
       "      <td>14.8043</td>\n",
       "      <td>15.9457</td>\n",
       "      <td>17.9639</td>\n",
       "      <td>19.3174</td>\n",
       "      <td>15.4271</td>\n",
       "      <td>15.9506</td>\n",
       "      <td>19.8981</td>\n",
       "      <td>Node_Jonctiune-J-34</td>\n",
       "      <td>0.504LPS</td>\n",
       "    </tr>\n",
       "    <tr>\n",
       "      <th>...</th>\n",
       "      <td>...</td>\n",
       "      <td>...</td>\n",
       "      <td>...</td>\n",
       "      <td>...</td>\n",
       "      <td>...</td>\n",
       "      <td>...</td>\n",
       "      <td>...</td>\n",
       "      <td>...</td>\n",
       "      <td>...</td>\n",
       "    </tr>\n",
       "    <tr>\n",
       "      <th>2876291</th>\n",
       "      <td>14.5295</td>\n",
       "      <td>15.5398</td>\n",
       "      <td>17.6939</td>\n",
       "      <td>19.2505</td>\n",
       "      <td>15.4271</td>\n",
       "      <td>15.9395</td>\n",
       "      <td>19.8981</td>\n",
       "      <td>Node_Jonctiune-267</td>\n",
       "      <td>10.095LPS</td>\n",
       "    </tr>\n",
       "    <tr>\n",
       "      <th>2876292</th>\n",
       "      <td>14.5295</td>\n",
       "      <td>15.5398</td>\n",
       "      <td>17.6939</td>\n",
       "      <td>19.2505</td>\n",
       "      <td>15.4271</td>\n",
       "      <td>15.9395</td>\n",
       "      <td>19.8981</td>\n",
       "      <td>Node_Jonctiune-267</td>\n",
       "      <td>10.096LPS</td>\n",
       "    </tr>\n",
       "    <tr>\n",
       "      <th>2876293</th>\n",
       "      <td>14.5295</td>\n",
       "      <td>15.5397</td>\n",
       "      <td>17.6939</td>\n",
       "      <td>19.2505</td>\n",
       "      <td>15.4271</td>\n",
       "      <td>15.9395</td>\n",
       "      <td>19.8981</td>\n",
       "      <td>Node_Jonctiune-267</td>\n",
       "      <td>10.097LPS</td>\n",
       "    </tr>\n",
       "    <tr>\n",
       "      <th>2876294</th>\n",
       "      <td>14.5294</td>\n",
       "      <td>15.5396</td>\n",
       "      <td>17.6938</td>\n",
       "      <td>19.2505</td>\n",
       "      <td>15.4271</td>\n",
       "      <td>15.9395</td>\n",
       "      <td>19.8981</td>\n",
       "      <td>Node_Jonctiune-267</td>\n",
       "      <td>10.098LPS</td>\n",
       "    </tr>\n",
       "    <tr>\n",
       "      <th>2876295</th>\n",
       "      <td>14.5294</td>\n",
       "      <td>15.5396</td>\n",
       "      <td>17.6938</td>\n",
       "      <td>19.2505</td>\n",
       "      <td>15.4271</td>\n",
       "      <td>15.9395</td>\n",
       "      <td>19.8981</td>\n",
       "      <td>Node_Jonctiune-267</td>\n",
       "      <td>10.099LPS</td>\n",
       "    </tr>\n",
       "  </tbody>\n",
       "</table>\n",
       "<p>2870327 rows × 9 columns</p>\n",
       "</div>"
      ],
      "text/plain": [
       "         Sensor1  Sensor2  Sensor3  Sensor4  J-Apollo    J-RN2    J-RN1  \\\n",
       "0        14.8043  15.9458  17.9639  19.3175   15.4271  15.9506  19.8981   \n",
       "1        14.8043  15.9458  17.9639  19.3175   15.4271  15.9506  19.8981   \n",
       "2        14.8043  15.9458  17.9639  19.3174   15.4271  15.9506  19.8981   \n",
       "3        14.8043  15.9457  17.9639  19.3174   15.4271  15.9506  19.8981   \n",
       "4        14.8043  15.9457  17.9639  19.3174   15.4271  15.9506  19.8981   \n",
       "...          ...      ...      ...      ...       ...      ...      ...   \n",
       "2876291  14.5295  15.5398  17.6939  19.2505   15.4271  15.9395  19.8981   \n",
       "2876292  14.5295  15.5398  17.6939  19.2505   15.4271  15.9395  19.8981   \n",
       "2876293  14.5295  15.5397  17.6939  19.2505   15.4271  15.9395  19.8981   \n",
       "2876294  14.5294  15.5396  17.6938  19.2505   15.4271  15.9395  19.8981   \n",
       "2876295  14.5294  15.5396  17.6938  19.2505   15.4271  15.9395  19.8981   \n",
       "\n",
       "              node_with_leak leak_amount  \n",
       "0        Node_Jonctiune-J-34      0.5LPS  \n",
       "1        Node_Jonctiune-J-34    0.501LPS  \n",
       "2        Node_Jonctiune-J-34    0.502LPS  \n",
       "3        Node_Jonctiune-J-34    0.503LPS  \n",
       "4        Node_Jonctiune-J-34    0.504LPS  \n",
       "...                      ...         ...  \n",
       "2876291   Node_Jonctiune-267   10.095LPS  \n",
       "2876292   Node_Jonctiune-267   10.096LPS  \n",
       "2876293   Node_Jonctiune-267   10.097LPS  \n",
       "2876294   Node_Jonctiune-267   10.098LPS  \n",
       "2876295   Node_Jonctiune-267   10.099LPS  \n",
       "\n",
       "[2870327 rows x 9 columns]"
      ]
     },
     "metadata": {},
     "output_type": "display_data"
    },
    {
     "name": "stdout",
     "output_type": "stream",
     "text": [
      "CPU times: user 6.45 s, sys: 732 ms, total: 7.18 s\n",
      "Wall time: 7.66 s\n"
     ]
    }
   ],
   "source": [
    "%%time\n",
    "\n",
    "main_df = pd.read_csv(\"simulated_sensor_data_8_cols.csv\")\n",
    "main_df = main_df.drop(columns=[\"origin_file\"]).drop_duplicates()\n",
    "\"\"\"main_df = main_df[['Sensor1', 'Sensor2', 'Sensor3', 'Sensor4', 'J-Apollo', 'J-RN2',\n",
    "       'J-RN1', 'node_with_leak']].round(3).drop_duplicates()\"\"\"\n",
    "display(main_df)"
   ]
  },
  {
   "cell_type": "markdown",
   "id": "f5e4b739",
   "metadata": {},
   "source": [
    "# DataLoader \n",
    "Here we prepare the necessary data: x_train, x_test, y_train, y_test to be used in our models later"
   ]
  },
  {
   "cell_type": "code",
   "execution_count": 3,
   "id": "5c7193c1",
   "metadata": {},
   "outputs": [
    {
     "name": "stdout",
     "output_type": "stream",
     "text": [
      "Train data shape: (2583180, 10), test data shape: (287147, 10)\n",
      "x_train shape: (2583180, 7), y_train shape: (2583180,)\n",
      "[[14.6317 15.7578 17.6711 ... 15.4271 15.9355 19.8981]\n",
      " [14.6646 15.7933 17.7162 ... 15.4271 15.9378 19.8981]\n",
      " [14.7709 15.9058 17.8906 ... 15.4271 15.947  19.8981]\n",
      " ...\n",
      " [14.6437 15.7998 17.8381 ... 15.4271 15.8726 19.8981]\n",
      " [14.7886 15.9313 17.9503 ... 15.4271 15.9406 19.8981]\n",
      " [14.7655 15.9103 17.9323 ... 15.4271 15.9307 19.8981]] [[14.69   15.8199 17.754  ... 15.4271 15.9398 19.8981]\n",
      " [14.6796 15.8092 17.7381 ... 15.4271 15.9389 19.8981]\n",
      " [14.7999 15.9387 17.9446 ... 15.4271 15.95   19.8981]\n",
      " ...\n",
      " [14.6989 15.8498 17.8807 ... 15.4271 15.8999 19.8981]\n",
      " [14.6403 15.7968 17.8355 ... 15.4271 15.8709 19.8981]\n",
      " [14.8086 15.9494 17.9655 ... 15.4271 15.9491 19.8981]] [  0   0   0 ... 126 126 126] [  0   0   0 ... 126 126 126]\n",
      "CPU times: user 8.89 s, sys: 776 ms, total: 9.66 s\n",
      "Wall time: 9.66 s\n"
     ]
    }
   ],
   "source": [
    "%%time\n",
    "\n",
    "# prepare the data for all models\n",
    "data_loader = DataLoader(main_df)\n",
    "x_train, x_test, y_train, y_test, enc_node_dict = data_loader.get_random_data_split_by_node()\n",
    "print(x_train, x_test, y_train, y_test)"
   ]
  },
  {
   "cell_type": "code",
   "execution_count": 6,
   "id": "3f60ae53",
   "metadata": {},
   "outputs": [
    {
     "name": "stdout",
     "output_type": "stream",
     "text": [
      "Train data shape: (387477, 11), test data shape: (43053, 11)\n",
      "x_train shape: (387477, 7), y_train shape: (387477,)\n",
      "[[14.8043 15.9458 17.9639 ... 15.4271 15.9506 19.8981]\n",
      " [14.8043 15.9458 17.9639 ... 15.4271 15.9506 19.8981]\n",
      " [14.8043 15.9458 17.9639 ... 15.4271 15.9506 19.8981]\n",
      " ...\n",
      " [14.7153 15.8299 17.8845 ... 15.4271 15.9465 19.8981]\n",
      " [14.7153 15.8298 17.8845 ... 15.4271 15.9465 19.8981]\n",
      " [14.7153 15.8298 17.8844 ... 15.4271 15.9465 19.8981]] [[14.8042 15.9457 17.9639 ... 15.4271 15.9506 19.8981]\n",
      " [14.804  15.9455 17.9638 ... 15.4271 15.9506 19.8981]\n",
      " [14.8038 15.9454 17.9637 ... 15.4271 15.9505 19.8981]\n",
      " ...\n",
      " [14.716  15.8307 17.885  ... 15.4271 15.9466 19.8981]\n",
      " [14.7157 15.8304 17.8848 ... 15.4271 15.9466 19.8981]\n",
      " [14.7154 15.83   17.8846 ... 15.4271 15.9466 19.8981]] [118 118 118 ...  55  55  55] [118 118 118 ...  55  55  55]\n",
      "CPU times: user 3.01 s, sys: 168 ms, total: 3.18 s\n",
      "Wall time: 3.18 s\n"
     ]
    }
   ],
   "source": [
    "%%time\n",
    "\n",
    "x_train_v2, x_test_v2, y_train_v2, y_test_v2, enc_node_dict_v2 = \\\n",
    "                        data_loader.get_sequential_subsample_data_split_by_leaks(subsample_size=0.15)\n",
    "print(x_train_v2, x_test_v2, y_train_v2, y_test_v2)"
   ]
  },
  {
   "cell_type": "markdown",
   "id": "5960da18",
   "metadata": {},
   "source": [
    "# GMM model testing"
   ]
  },
  {
   "cell_type": "code",
   "execution_count": 5,
   "id": "43105069",
   "metadata": {},
   "outputs": [
    {
     "name": "stdout",
     "output_type": "stream",
     "text": [
      "CPU times: user 0 ns, sys: 0 ns, total: 0 ns\n",
      "Wall time: 64.6 µs\n"
     ]
    }
   ],
   "source": [
    "%%time\n",
    "# sklearn GroupShuffleSplit and pandas.cut may come in handy for splitting data sometime\n",
    "\n",
    "# GMM model testing\n",
    "model_random_s = GroupsModelWrapper(x_train, x_test, y_train, y_test, enc_node_dict, model_type=\"GMM\")\n",
    "#model_seq_s = GroupsModelWrapper(x_train_v2, x_test_v2, y_train_v2, y_test_v2, enc_node_dict_v2, \n",
    "#                                 model_type=\"GMM\")"
   ]
  },
  {
   "cell_type": "code",
   "execution_count": 8,
   "id": "39f1aae2",
   "metadata": {},
   "outputs": [
    {
     "name": "stdout",
     "output_type": "stream",
     "text": [
      "CPU times: user 3h 25min 3s, sys: 10h 24min 32s, total: 13h 49min 35s\n",
      "Wall time: 1h 18min 6s\n"
     ]
    }
   ],
   "source": [
    "%%time\n",
    "\n",
    "model_seq_s.train()"
   ]
  },
  {
   "cell_type": "code",
   "execution_count": 9,
   "id": "bd7db7a4",
   "metadata": {},
   "outputs": [
    {
     "name": "stdout",
     "output_type": "stream",
     "text": [
      "\n",
      "Accuracy: 0.013448540171416626\n",
      "Precision: 0.014040441480686672, recall: 0.013448540171416626\n",
      "CPU times: user 2min 29s, sys: 48 ms, total: 2min 29s\n",
      "Wall time: 2min 29s\n"
     ]
    },
    {
     "name": "stderr",
     "output_type": "stream",
     "text": [
      "/home/lstopar/.pyenv/versions/3.9.13/envs/naiades-braila/lib/python3.9/site-packages/sklearn/metrics/_classification.py:1318: UndefinedMetricWarning: Precision is ill-defined and being set to 0.0 in labels with no predicted samples. Use `zero_division` parameter to control this behavior.\n",
      "  _warn_prf(average, modifier, msg_start, len(result))\n"
     ]
    }
   ],
   "source": [
    "%%time\n",
    "model_seq_s.evaluate_model_on_node_basis()"
   ]
  },
  {
   "cell_type": "code",
   "execution_count": 6,
   "id": "a08d147a",
   "metadata": {},
   "outputs": [
    {
     "name": "stdout",
     "output_type": "stream",
     "text": [
      "\n",
      "Accuracy: 0.007717301591171072\n",
      "Precision: 0.006841631437694475, recall: 0.007717301591171073\n",
      "CPU times: user 1d 18h 30min 12s, sys: 3d 1h 2min 9s, total: 4d 19h 32min 22s\n",
      "Wall time: 19h 52min 56s\n"
     ]
    }
   ],
   "source": [
    "%%time\n",
    "\n",
    "model_random_s.train()\n",
    "model_random_s.evaluate_model_on_node_basis()"
   ]
  },
  {
   "cell_type": "code",
   "execution_count": null,
   "id": "7c5fae2f",
   "metadata": {},
   "outputs": [],
   "source": []
  },
  {
   "cell_type": "markdown",
   "id": "a3eaae53",
   "metadata": {},
   "source": [
    "## SVM model testing"
   ]
  },
  {
   "cell_type": "code",
   "execution_count": 10,
   "id": "4dc7bf09",
   "metadata": {},
   "outputs": [
    {
     "name": "stdout",
     "output_type": "stream",
     "text": [
      "CPU times: user 0 ns, sys: 0 ns, total: 0 ns\n",
      "Wall time: 93 µs\n"
     ]
    }
   ],
   "source": [
    "%%time\n",
    "\n",
    "# SVM model testing\n",
    "svm_model_random_s = GroupsModelWrapper(x_train, x_test, y_train, y_test, enc_node_dict, model_type=\"SVM\")\n",
    "svm_model_seq_s = GroupsModelWrapper(x_train_v2, x_test_v2, y_train_v2, y_test_v2, enc_node_dict_v2, \n",
    "                                 model_type=\"SVM\")"
   ]
  },
  {
   "cell_type": "code",
   "execution_count": 11,
   "id": "4e23d6a7",
   "metadata": {},
   "outputs": [
    {
     "name": "stdout",
     "output_type": "stream",
     "text": [
      "\n",
      "Accuracy: 0.007874015748031496\n",
      "Precision: 6.2000124000248e-05, recall: 0.007874015748031496\n",
      "CPU times: user 2h 49min 19s, sys: 4min 47s, total: 2h 54min 6s\n",
      "Wall time: 2h 54min 6s\n"
     ]
    },
    {
     "name": "stderr",
     "output_type": "stream",
     "text": [
      "/home/lstopar/.pyenv/versions/3.9.13/envs/naiades-braila/lib/python3.9/site-packages/sklearn/metrics/_classification.py:1318: UndefinedMetricWarning: Precision is ill-defined and being set to 0.0 in labels with no predicted samples. Use `zero_division` parameter to control this behavior.\n",
      "  _warn_prf(average, modifier, msg_start, len(result))\n"
     ]
    }
   ],
   "source": [
    "%%time\n",
    "\n",
    "svm_model_seq_s.train()\n",
    "svm_model_seq_s.evaluate_model_on_node_basis()"
   ]
  },
  {
   "cell_type": "code",
   "execution_count": null,
   "id": "615f8e57",
   "metadata": {},
   "outputs": [],
   "source": [
    "%%time\n",
    "\n",
    "svm_model_random_s.train()\n",
    "svm_model_random_s.evaluate_model_on_node_basis()"
   ]
  },
  {
   "cell_type": "code",
   "execution_count": null,
   "id": "760fc557",
   "metadata": {},
   "outputs": [],
   "source": []
  },
  {
   "cell_type": "code",
   "execution_count": null,
   "id": "ccc75cfe",
   "metadata": {},
   "outputs": [],
   "source": []
  },
  {
   "cell_type": "code",
   "execution_count": null,
   "id": "c1fe2ee8",
   "metadata": {},
   "outputs": [],
   "source": []
  },
  {
   "cell_type": "code",
   "execution_count": null,
   "id": "f291b9e5",
   "metadata": {},
   "outputs": [],
   "source": []
  },
  {
   "cell_type": "code",
   "execution_count": null,
   "id": "5e6e76b7",
   "metadata": {},
   "outputs": [],
   "source": []
  }
 ],
 "metadata": {
  "kernelspec": {
   "display_name": "Python 3 (ipykernel)",
   "language": "python",
   "name": "python3"
  },
  "language_info": {
   "codemirror_mode": {
    "name": "ipython",
    "version": 3
   },
   "file_extension": ".py",
   "mimetype": "text/x-python",
   "name": "python",
   "nbconvert_exporter": "python",
   "pygments_lexer": "ipython3",
   "version": "3.9.13"
  }
 },
 "nbformat": 4,
 "nbformat_minor": 5
}
