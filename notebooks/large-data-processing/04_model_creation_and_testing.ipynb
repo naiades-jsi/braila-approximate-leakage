{
 "cells": [
  {
   "cell_type": "markdown",
   "id": "5b4f374d",
   "metadata": {},
   "source": [
    "## Model testing on prepared data"
   ]
  },
  {
   "cell_type": "code",
   "execution_count": null,
   "id": "25e0f51d",
   "metadata": {},
   "outputs": [],
   "source": [
    "%reload_ext autoreload\n",
    "%autoreload 2\n",
    "import os\n",
    "import sys\n",
    "import pandas as pd\n",
    "import numpy as np\n",
    "from sklearn.preprocessing import LabelEncoder\n",
    "import plotly.graph_objects as go\n",
    "\n",
    "module_path = os.path.abspath(os.path.join('./../..'))\n",
    "if module_path not in sys.path:\n",
    "    sys.path.append(module_path)\n",
    "from src.multicovariate_models.gmm_functions import predict_groups_gmm, fit_gaussian_mixture_model\n",
    "from src.multicovariate_models.GroupsModel import GroupsModel"
   ]
  },
  {
   "cell_type": "code",
   "execution_count": null,
   "id": "41e63e06",
   "metadata": {},
   "outputs": [],
   "source": [
    "%%time\n",
    "\n",
    "main_df = pd.read_csv(\"simulated_sensor_data_8_cols.csv\")\n",
    "main_df = main_df.drop(columns=[\"origin_file\"]).drop_duplicates()\n",
    "display(main_df)"
   ]
  },
  {
   "cell_type": "code",
   "execution_count": null,
   "id": "3ab6c3e3",
   "metadata": {},
   "outputs": [],
   "source": [
    "%%time\n",
    "\n",
    "# sklearn GroupShuffleSplit and pandas.cut may come in handy for splitting data sometime\n",
    "model_class = GroupsModel(model_type=\"GMM\", prepared_data_df=main_df)\n",
    "# x_train, x_test, y_train, y_test = model_class.get_data()"
   ]
  },
  {
   "cell_type": "code",
   "execution_count": null,
   "id": "d1935e17",
   "metadata": {},
   "outputs": [],
   "source": [
    "%%time\n",
    "\n",
    "model_class.train()"
   ]
  },
  {
   "cell_type": "code",
   "execution_count": null,
   "id": "8e2c217f",
   "metadata": {},
   "outputs": [],
   "source": []
  },
  {
   "cell_type": "code",
   "execution_count": null,
   "id": "4ba34848",
   "metadata": {},
   "outputs": [],
   "source": []
  },
  {
   "cell_type": "code",
   "execution_count": null,
   "id": "57d0ed9e",
   "metadata": {},
   "outputs": [],
   "source": []
  },
  {
   "cell_type": "code",
   "execution_count": null,
   "id": "5868d497",
   "metadata": {},
   "outputs": [],
   "source": []
  },
  {
   "cell_type": "code",
   "execution_count": null,
   "id": "50adbb12",
   "metadata": {},
   "outputs": [],
   "source": []
  },
  {
   "cell_type": "code",
   "execution_count": null,
   "id": "684780c0",
   "metadata": {},
   "outputs": [],
   "source": []
  },
  {
   "cell_type": "code",
   "execution_count": null,
   "id": "9fc10354",
   "metadata": {},
   "outputs": [],
   "source": []
  },
  {
   "cell_type": "code",
   "execution_count": null,
   "id": "2a8eea14",
   "metadata": {},
   "outputs": [],
   "source": []
  },
  {
   "cell_type": "code",
   "execution_count": null,
   "id": "46f94d96",
   "metadata": {},
   "outputs": [],
   "source": []
  },
  {
   "cell_type": "code",
   "execution_count": null,
   "id": "4e9beb44",
   "metadata": {},
   "outputs": [],
   "source": []
  }
 ],
 "metadata": {
  "kernelspec": {
   "display_name": "Python [conda env:root] *",
   "language": "python",
   "name": "conda-root-py"
  },
  "language_info": {
   "codemirror_mode": {
    "name": "ipython",
    "version": 3
   },
   "file_extension": ".py",
   "mimetype": "text/x-python",
   "name": "python",
   "nbconvert_exporter": "python",
   "pygments_lexer": "ipython3",
   "version": "3.9.7"
  }
 },
 "nbformat": 4,
 "nbformat_minor": 5
}
