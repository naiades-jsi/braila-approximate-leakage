{
 "cells": [
  {
   "cell_type": "markdown",
   "id": "5b4f374d",
   "metadata": {},
   "source": [
    "## Model testing on prepared data"
   ]
  },
  {
   "cell_type": "code",
   "execution_count": null,
   "id": "25e0f51d",
   "metadata": {},
   "outputs": [],
   "source": [
    "%reload_ext autoreload\n",
    "%autoreload 2\n",
    "import os\n",
    "import sys\n",
    "import pandas as pd\n",
    "import numpy as np\n",
    "from sklearn.preprocessing import LabelEncoder\n",
    "import plotly.graph_objects as go\n",
    "\n",
    "module_path = os.path.abspath(os.path.join('./../..'))\n",
    "if module_path not in sys.path:\n",
    "    sys.path.append(module_path)\n",
    "from src.multicovariate_models.gmm_functions import predict_groups_gmm, fit_gaussian_mixture_model\n",
    "from src.multicovariate_models.GroupsModelWrapper import GroupsModelWrapper\n",
    "from src.multicovariate_models.DataLoader import DataLoader"
   ]
  },
  {
   "cell_type": "code",
   "execution_count": null,
   "id": "64b1c225",
   "metadata": {},
   "outputs": [],
   "source": [
    "%%time\n",
    "\n",
    "main_df = pd.read_csv(\"simulated_sensor_data_8_cols.csv\")\n",
    "main_df = main_df.drop(columns=[\"origin_file\"]).drop_duplicates()\n",
    "\"\"\"main_df = main_df[['Sensor1', 'Sensor2', 'Sensor3', 'Sensor4', 'J-Apollo', 'J-RN2',\n",
    "       'J-RN1', 'node_with_leak']].round(3).drop_duplicates()\"\"\"\n",
    "display(main_df)"
   ]
  },
  {
   "cell_type": "markdown",
   "id": "a3cf08c4",
   "metadata": {},
   "source": [
    "# DataLoader \n",
    "Here we prepare the necessary data: x_train, x_test, y_train, y_test to be used in our models later"
   ]
  },
  {
   "cell_type": "code",
   "execution_count": null,
   "id": "f6ff9df3",
   "metadata": {},
   "outputs": [],
   "source": [
    "%%time\n",
    "\n",
    "# prepare the data for all models\n",
    "data_loader = DataLoader(main_df)\n",
    "x_train, x_test, y_train, y_test, enc_node_dict = data_loader.get_random_data_split_by_node()\n",
    "print(x_train, x_test, y_train, y_test)"
   ]
  },
  {
   "cell_type": "code",
   "execution_count": null,
   "id": "81d85d66",
   "metadata": {},
   "outputs": [],
   "source": [
    "%%time\n",
    "\n",
    "x_train_v2, x_test_v2, y_train_v2, y_test_v2, enc_node_dict_v2 = \\\n",
    "                        data_loader.get_sequential_subsample_data_split_by_leaks(subsample_size=0.15)\n",
    "print(x_train_v2, x_test_v2, y_train_v2, y_test_v2)"
   ]
  },
  {
   "cell_type": "markdown",
   "id": "746e3451",
   "metadata": {},
   "source": [
    "# GMM model testing"
   ]
  },
  {
   "cell_type": "code",
   "execution_count": null,
   "id": "3ab6c3e3",
   "metadata": {},
   "outputs": [],
   "source": [
    "%%time\n",
    "# sklearn GroupShuffleSplit and pandas.cut may come in handy for splitting data sometime\n",
    "\n",
    "# GMM model testing\n",
    "model_random_s = GroupsModelWrapper(x_train, x_test, y_train, y_test, enc_node_dict, model_type=\"GMM\")\n",
    "model_seq_s = GroupsModelWrapper(x_train_v2, x_test_v2, y_train_v2, y_test_v2, enc_node_dict_v2, \n",
    "                                 model_type=\"GMM\")"
   ]
  },
  {
   "cell_type": "code",
   "execution_count": null,
   "id": "d1935e17",
   "metadata": {},
   "outputs": [],
   "source": [
    "%%time\n",
    "\n",
    "model_seq_s.train()"
   ]
  },
  {
   "cell_type": "code",
   "execution_count": null,
   "id": "90ee7033",
   "metadata": {},
   "outputs": [],
   "source": [
    "%%time\n",
    "model_seq_s.evaluate_model_on_node_basis()"
   ]
  },
  {
   "cell_type": "code",
   "execution_count": null,
   "id": "8e2c217f",
   "metadata": {},
   "outputs": [],
   "source": [
    "%%time\n",
    "\n",
    "model_random_s.train()\n",
    "model_random_s.evaluate_model_on_node_basis()"
   ]
  },
  {
   "cell_type": "code",
   "execution_count": null,
   "id": "8ce919a0",
   "metadata": {},
   "outputs": [],
   "source": []
  },
  {
   "cell_type": "markdown",
   "id": "3aa6b542",
   "metadata": {},
   "source": [
    "## SVM model testing"
   ]
  },
  {
   "cell_type": "code",
   "execution_count": null,
   "id": "57d0ed9e",
   "metadata": {},
   "outputs": [],
   "source": [
    "%%time\n",
    "\n",
    "# SVM model testing\n",
    "svm_model_random_s = GroupsModelWrapper(x_train, x_test, y_train, y_test, enc_node_dict, model_type=\"SVM\")\n",
    "svm_model_seq_s = GroupsModelWrapper(x_train_v2, x_test_v2, y_train_v2, y_test_v2, enc_node_dict_v2, \n",
    "                                 model_type=\"SVM\")"
   ]
  },
  {
   "cell_type": "code",
   "execution_count": null,
   "id": "5868d497",
   "metadata": {},
   "outputs": [],
   "source": [
    "%%time\n",
    "\n",
    "svm_model_seq_s.train()\n",
    "svm_model_seq_s.evaluate_model_on_node_basis()"
   ]
  },
  {
   "cell_type": "code",
   "execution_count": null,
   "id": "50adbb12",
   "metadata": {},
   "outputs": [],
   "source": [
    "%%time\n",
    "\n",
    "svm_model_random_s.train()\n",
    "svm_model_random_s.evaluate_model_on_node_basis()"
   ]
  },
  {
   "cell_type": "code",
   "execution_count": null,
   "id": "684780c0",
   "metadata": {},
   "outputs": [],
   "source": []
  },
  {
   "cell_type": "code",
   "execution_count": null,
   "id": "9fc10354",
   "metadata": {},
   "outputs": [],
   "source": []
  },
  {
   "cell_type": "code",
   "execution_count": null,
   "id": "2a8eea14",
   "metadata": {},
   "outputs": [],
   "source": []
  },
  {
   "cell_type": "code",
   "execution_count": null,
   "id": "46f94d96",
   "metadata": {},
   "outputs": [],
   "source": []
  },
  {
   "cell_type": "code",
   "execution_count": null,
   "id": "4e9beb44",
   "metadata": {},
   "outputs": [],
   "source": []
  }
 ],
 "metadata": {
  "kernelspec": {
   "display_name": "Python [conda env:root] *",
   "language": "python",
   "name": "conda-root-py"
  },
  "language_info": {
   "codemirror_mode": {
    "name": "ipython",
    "version": 3
   },
   "file_extension": ".py",
   "mimetype": "text/x-python",
   "name": "python",
   "nbconvert_exporter": "python",
   "pygments_lexer": "ipython3",
   "version": "3.9.7"
  }
 },
 "nbformat": 4,
 "nbformat_minor": 5
}
