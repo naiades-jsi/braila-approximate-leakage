{
 "cells": [
  {
   "cell_type": "markdown",
   "id": "6243c3d6",
   "metadata": {},
   "source": [
    "# Dimensionality reduction using PCA\n",
    "This notebook shows the use of the functions implemented in src. package that reduce the data to its principal components"
   ]
  },
  {
   "cell_type": "code",
   "execution_count": null,
   "id": "97060694",
   "metadata": {},
   "outputs": [],
   "source": [
    "# imports \n",
    "import pandas as pd\n",
    "import numpy as np\n",
    "from sklearn.decomposition import PCA\n",
    "from sklearn.preprocessing import StandardScaler\n",
    "\n",
    "import os\n",
    "import sys\n",
    "module_path = os.path.abspath(os.path.join('./../..'))\n",
    "if module_path not in sys.path:\n",
    "    sys.path.append(module_path)"
   ]
  },
  {
   "cell_type": "code",
   "execution_count": null,
   "id": "358215a7",
   "metadata": {},
   "outputs": [],
   "source": []
  },
  {
   "cell_type": "markdown",
   "id": "6b6272d1",
   "metadata": {},
   "source": [
    "## Implementation -> remove when moved to src\n"
   ]
  },
  {
   "cell_type": "code",
   "execution_count": null,
   "id": "0c7048b1",
   "metadata": {},
   "outputs": [],
   "source": [
    "sensors_arr = [\"Sensor1\", \"Sensor2\", \"Sensor3\", \"Sensor4\", \"J-Apollo\", \"J-RN2\", \"J-RN1\"]\n",
    "df = pd.read_csv(\"test_1.csv\")\n",
    "# Rounding all values to 5 decimal places anything more specific is  \n",
    "df = df.round(3)\n",
    "\n",
    "# display(df)\n",
    "df_no_meta_data = df[sensors_arr]\n",
    "df_t_no_meta_data = df_no_meta_data.transpose()\n",
    "display(df_no_meta_data, df_t_no_meta_data)"
   ]
  },
  {
   "cell_type": "code",
   "execution_count": null,
   "id": "fc51061b",
   "metadata": {},
   "outputs": [],
   "source": []
  },
  {
   "cell_type": "code",
   "execution_count": null,
   "id": "e09e0fec",
   "metadata": {},
   "outputs": [],
   "source": [
    "# Normalize the data -> required for PCA\n",
    "std_scaler = StandardScaler()\n",
    "df_t_normalized = std_scaler.fit_transform(df_t_no_meta_data)\n",
    "df_t_normalized = pd.DataFrame(df_t_normalized, index=df_t_no_meta_data.index)\n",
    "\n",
    "df_normalized = std_scaler.fit_transform(df_no_meta_data)\n",
    "df_normalized = pd.DataFrame(df_normalized, columns=df_no_meta_data.columns)\n",
    "display(df_t_normalized, df_normalized)"
   ]
  },
  {
   "cell_type": "code",
   "execution_count": null,
   "id": "8a08d8d8",
   "metadata": {},
   "outputs": [],
   "source": [
    "pca = PCA(n_components=7)\n",
    "# pca.fit(df_t_normalized)\n",
    "pca_X = pca.fit_transform(df_t_normalized)\n",
    "print(f\"Original matrix {df_t_normalized.shape}, pca matrix: {pca_X.shape}\")\n",
    "print(pca.explained_variance_ratio_)\n",
    "print(pca.singular_values_)\n",
    "print(pca.explained_variance_ratio_.cumsum())\n"
   ]
  },
  {
   "cell_type": "code",
   "execution_count": null,
   "id": "dfdda222",
   "metadata": {},
   "outputs": [],
   "source": []
  }
 ],
 "metadata": {
  "kernelspec": {
   "display_name": "Python 3 (ipykernel)",
   "language": "python",
   "name": "python3"
  },
  "language_info": {
   "codemirror_mode": {
    "name": "ipython",
    "version": 3
   },
   "file_extension": ".py",
   "mimetype": "text/x-python",
   "name": "python",
   "nbconvert_exporter": "python",
   "pygments_lexer": "ipython3",
   "version": "3.9.7"
  }
 },
 "nbformat": 4,
 "nbformat_minor": 5
}
