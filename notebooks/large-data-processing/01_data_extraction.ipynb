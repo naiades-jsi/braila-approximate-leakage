{
 "cells": [
  {
   "cell_type": "markdown",
   "id": "3cbf96b5",
   "metadata": {},
   "source": [
    "# Data extraction\n",
    "In this notebook an example is shown on how to extract only the relavant data that we need from the datasets generated with the help of EPANET"
   ]
  },
  {
   "cell_type": "code",
   "execution_count": null,
   "id": "a4b1714c",
   "metadata": {},
   "outputs": [],
   "source": [
    "import os\n",
    "import sys\n",
    "module_path = os.path.abspath(os.path.join('./../..'))\n",
    "if module_path not in sys.path:\n",
    "    sys.path.append(module_path)\n",
    "    \n",
    "from src.data_parsing_and_saving.large_data_parsing import condense_pickle_files_to_relevant_data"
   ]
  },
  {
   "cell_type": "code",
   "execution_count": null,
   "id": "0875359a",
   "metadata": {},
   "outputs": [],
   "source": []
  },
  {
   "cell_type": "markdown",
   "id": "50a6ed26",
   "metadata": {},
   "source": [
    "## For extracting data \n",
    "Function below extracts the data that we need from all the files in the given directory. It saves the data into a new file."
   ]
  },
  {
   "cell_type": "code",
   "execution_count": null,
   "id": "479fd356",
   "metadata": {},
   "outputs": [],
   "source": [
    "path_to_data = \"D:/braila_backup_data/Braila/OneNode\"\n",
    "output_file = \"test_1.csv\"\n",
    "\n",
    "condense_pickle_files_to_relevant_data(path_to_data, output_file)"
   ]
  },
  {
   "cell_type": "code",
   "execution_count": null,
   "id": "5d940d00",
   "metadata": {},
   "outputs": [],
   "source": []
  },
  {
   "cell_type": "markdown",
   "id": "1572bcee",
   "metadata": {},
   "source": [
    "## Batch training on the data while reading from files"
   ]
  },
  {
   "cell_type": "code",
   "execution_count": null,
   "id": "3d8bbddd",
   "metadata": {},
   "outputs": [],
   "source": [
    "from src.data_parsing_and_saving.large_data_parsing import read_dfs_and_generate_feature_vectors\n",
    "\n",
    "# uncomment for functionality\n",
    "# batch_df = read_dfs_and_generate_feature_vectors(path_to_data, \"birch\")"
   ]
  },
  {
   "cell_type": "code",
   "execution_count": null,
   "id": "4eeb80c5",
   "metadata": {},
   "outputs": [],
   "source": []
  },
  {
   "cell_type": "code",
   "execution_count": null,
   "id": "fb00e935",
   "metadata": {},
   "outputs": [],
   "source": []
  },
  {
   "cell_type": "code",
   "execution_count": null,
   "id": "0d845e9e",
   "metadata": {},
   "outputs": [],
   "source": []
  },
  {
   "cell_type": "code",
   "execution_count": null,
   "id": "b4efd709",
   "metadata": {},
   "outputs": [],
   "source": []
  },
  {
   "cell_type": "code",
   "execution_count": null,
   "id": "8cb4f87c",
   "metadata": {},
   "outputs": [],
   "source": []
  },
  {
   "cell_type": "code",
   "execution_count": null,
   "id": "c29f0550",
   "metadata": {},
   "outputs": [],
   "source": []
  }
 ],
 "metadata": {
  "kernelspec": {
   "display_name": "Python 3 (ipykernel)",
   "language": "python",
   "name": "python3"
  },
  "language_info": {
   "codemirror_mode": {
    "name": "ipython",
    "version": 3
   },
   "file_extension": ".py",
   "mimetype": "text/x-python",
   "name": "python",
   "nbconvert_exporter": "python",
   "pygments_lexer": "ipython3",
   "version": "3.9.7"
  }
 },
 "nbformat": 4,
 "nbformat_minor": 5
}
