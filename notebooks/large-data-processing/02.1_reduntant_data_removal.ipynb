{
 "cells": [
  {
   "cell_type": "markdown",
   "id": "af1d9cc2",
   "metadata": {},
   "source": [
    "# Redunant data removal\n",
    "In this notebook we will aim to create a function which "
   ]
  },
  {
   "cell_type": "code",
   "execution_count": null,
   "id": "2333ba0a",
   "metadata": {},
   "outputs": [],
   "source": [
    "# imports \n",
    "import pandas as pd\n",
    "import numpy as np\n",
    "from sklearn.decomposition import PCA\n",
    "from sklearn.preprocessing import StandardScaler\n",
    "\n",
    "import os\n",
    "import sys\n",
    "module_path = os.path.abspath(os.path.join('./../..'))\n",
    "if module_path not in sys.path:\n",
    "    sys.path.append(module_path)"
   ]
  },
  {
   "cell_type": "code",
   "execution_count": null,
   "id": "cc4f0e20",
   "metadata": {},
   "outputs": [],
   "source": [
    "sensors__columns_arr = [\"Sensor1\", \"Sensor2\", \"Sensor3\", \"Sensor4\", \"J-Apollo\", \"J-RN2\", \"J-RN1\"]\n",
    "extra_columns_arr = ['node_with_leak', 'leak_amount', 'origin_file']\n",
    "df = pd.read_csv(\"test_1.csv\")\n",
    "\n",
    "display(df)"
   ]
  },
  {
   "cell_type": "markdown",
   "id": "df02b049",
   "metadata": {},
   "source": [
    "Rounding data to a more realistic number with fixed decimal places to eliminate noise and determining how much data is duplicated."
   ]
  },
  {
   "cell_type": "code",
   "execution_count": null,
   "id": "f49e00cb",
   "metadata": {},
   "outputs": [],
   "source": [
    "# Rounding all values to 5 decimal places anything more specific is  \n",
    "df_tmp = df.round(3)\n",
    "\n",
    "df_final = df_tmp.drop_duplicates() # .join(df[extra_columns_arr])\n",
    "df_final[\"leak_amount\"] = df_final[\"leak_amount\"].str.replace(\"LPS\", \"\")\n",
    "display(df_final)"
   ]
  },
  {
   "cell_type": "code",
   "execution_count": null,
   "id": "cace68d9",
   "metadata": {},
   "outputs": [],
   "source": []
  },
  {
   "cell_type": "code",
   "execution_count": null,
   "id": "102e744f",
   "metadata": {},
   "outputs": [],
   "source": []
  }
 ],
 "metadata": {
  "kernelspec": {
   "display_name": "Python 3 (ipykernel)",
   "language": "python",
   "name": "python3"
  },
  "language_info": {
   "codemirror_mode": {
    "name": "ipython",
    "version": 3
   },
   "file_extension": ".py",
   "mimetype": "text/x-python",
   "name": "python",
   "nbconvert_exporter": "python",
   "pygments_lexer": "ipython3",
   "version": "3.9.7"
  }
 },
 "nbformat": 4,
 "nbformat_minor": 5
}
