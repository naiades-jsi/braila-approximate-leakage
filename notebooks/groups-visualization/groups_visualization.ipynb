{
 "cells": [
  {
   "cell_type": "markdown",
   "metadata": {},
   "source": [
    "# Visualizing groups for each node"
   ]
  },
  {
   "cell_type": "code",
   "execution_count": null,
   "metadata": {},
   "outputs": [],
   "source": [
    "import os\n",
    "import sys\n",
    "import plotly.express as px\n",
    "import plotly.graph_objects as go\n",
    "\n",
    "\n",
    "module_path = os.path.abspath(os.path.join('./../..'))\n",
    "if module_path not in sys.path:\n",
    "    sys.path.append(module_path)\n",
    "\n",
    "from src.divergence_matrix.DivergenceMatrixProcessor import DivergenceMatrixProcessor\n",
    "from src.state_comparator.comparator_functions import *\n",
    "from src.helper_functions import visualize_node_groups\n",
    "\n",
    "from src.helper_functions import pretty_print\n",
    "import src.configfile as config"
   ]
  },
  {
   "cell_type": "code",
   "execution_count": null,
   "metadata": {},
   "outputs": [],
   "source": [
    "instance = DivergenceMatrixProcessor(\"./../../data/divergence_matrix/Divergence_M.pickle\")"
   ]
  },
  {
   "cell_type": "code",
   "execution_count": null,
   "metadata": {},
   "outputs": [],
   "source": [
    "def main(date):\n",
    "    SELECTED_NODES = [\"SenzorComunarzi-NatVech\", \"SenzorCernauti-Sebesului\", \"SenzorChisinau-Titulescu\",\n",
    "                  \"SenzorComunarzi-castanului\", \"Jonctiune-3974\", \"Jonctiune-J-3\", \"Jonctiune-J-19\", \"Jonctiune-2749\"]\n",
    "    \n",
    "    print(\"Starting analysis ... ... \")\n",
    "    for node in SELECTED_NODES:\n",
    "        print(\"Node: \" + node)\n",
    "        node_groups_dict = instance.get_affected_nodes_groups(16.0, node, num_of_groups=4,\n",
    "                                                              method=\"jenks_natural_breaks\")\n",
    "\n",
    "        file_name = node + \"-network.html\"\n",
    "        visualize_node_groups(node, node_groups_dict, \"./../../data/epanet_networks/RaduNegru24May2021_2.2.inp\", \n",
    "                              filename=file_name, auto_open=False)"
   ]
  },
  {
   "cell_type": "code",
   "execution_count": null,
   "metadata": {},
   "outputs": [],
   "source": [
    " main(\"2021-04-12\")"
   ]
  },
  {
   "cell_type": "code",
   "execution_count": null,
   "metadata": {},
   "outputs": [],
   "source": []
  }
 ],
 "metadata": {
  "kernelspec": {
   "display_name": "Python 3",
   "language": "python",
   "name": "python3"
  },
  "language_info": {
   "codemirror_mode": {
    "name": "ipython",
    "version": 3
   },
   "file_extension": ".py",
   "mimetype": "text/x-python",
   "name": "python",
   "nbconvert_exporter": "python",
   "pygments_lexer": "ipython3",
   "version": "3.8.3"
  }
 },
 "nbformat": 4,
 "nbformat_minor": 4
}
