{
 "cells": [
  {
   "cell_type": "markdown",
   "metadata": {},
   "source": [
    "# Testing function used to process data from kafka"
   ]
  },
  {
   "cell_type": "code",
   "execution_count": null,
   "metadata": {},
   "outputs": [],
   "source": [
    "import os\n",
    "import sys\n",
    "import plotly.express as px\n",
    "import plotly.graph_objects as go\n",
    "\n",
    "\n",
    "module_path = os.path.abspath(os.path.join('./../..'))\n",
    "if module_path not in sys.path:\n",
    "    sys.path.append(module_path)\n",
    "\n",
    "from src.divergence_matrix.DivergenceMatrixProcessor import DivergenceMatrixProcessor\n",
    "from src.state_comparator.comparator_functions import *\n",
    "from src.helper_functions import visualize_node_groups\n",
    "\n",
    "from src.helper_functions import pretty_print\n",
    "import src.configfile as config"
   ]
  },
  {
   "cell_type": "code",
   "execution_count": null,
   "metadata": {},
   "outputs": [],
   "source": [
    "# Data/objects that need to be calculated just one time\n",
    "instance = DivergenceMatrixProcessor(\"./../../data/divergence_matrix/Divergence_M.pickle\")\n",
    "epanet_simulated_df = create_epanet_pressure_df(\"./../../data/epanet_networks/RaduNegru24May2021_2.2.inp\", \n",
    "                                                selected_nodes=config.SELECTED_NODES)"
   ]
  },
  {
   "cell_type": "code",
   "execution_count": null,
   "metadata": {},
   "outputs": [],
   "source": [
    "feature_arr = [20, 20, 20, 20, 20, 20, 20, 20, 20, 20, 20, \n",
    "               20, 20, 20, 20, 20, 20, 20, 20, 20, 20, 20, \n",
    "               20, 20, 20, 20, 20, 20, 20, 20, 20, 20, 20, \n",
    "               20, 20, 20, 20, 20, 20, 20, 20, 20, 20, 20, \n",
    "               20, 20, 20, 20, 20, 20, 20, 20, 20, 20, 20, \n",
    "               20, 20, 20, 20, 20, 20, 20, 20, 20, 20, 20, \n",
    "               20, 20, 20, 20, 20, 20, 20, 20, 20, 20, 20, \n",
    "               20, 20, 20, 20, 20, 20, 20, 20, 20, 20, 20, \n",
    "               20, 20, 20, 20, 20, 20, 20, 20, 20, 20, 20, \n",
    "               20, 20, 20, 20, 20, 20, 20, 20, 20, 20, 20, \n",
    "               20, 20, 20, 20, 20, 20, 20, 20, 20, 20, 20, \n",
    "               20, 20, 20, 20, 20, 20, 20, 20, 20, 20, 20, \n",
    "               20, 20, 20, 20, 20, 20, 20, 20, 20, 20, 20, \n",
    "               20, 20, 20, 20, 20, 20, 20, 20, 20, 20, 20, \n",
    "               20, 20, 20, 20, 20, 20, 20, 20, 20, 20, 20, \n",
    "               20, 20, 20, 20, 20, 20, 20, 20, 20, 20, 20, \n",
    "               20, 20, 20, 20, 20, 20, 20, 20, 20, 20, 20, \n",
    "               20, 20, 20, 20, 20]\n",
    "current_timestamp = 1626131700\n",
    "\n",
    "diverged_node, deviation = analyse_kafka_topic_and_find_critical_sensor(current_timestamp, feature_arr,\n",
    "                                                                        epanet_simulated_df, config.SELECTED_NODES)"
   ]
  },
  {
   "cell_type": "code",
   "execution_count": null,
   "metadata": {},
   "outputs": [],
   "source": [
    "display(diverged_node, deviation)"
   ]
  },
  {
   "cell_type": "code",
   "execution_count": null,
   "metadata": {},
   "outputs": [],
   "source": [
    "output_groups_dict = instance.get_affected_nodes_groups(4.00, diverged_node,num_of_groups=4,\n",
    "                                                        method=\"jenks_natural_breaks+optimal_groups\")"
   ]
  },
  {
   "cell_type": "code",
   "execution_count": null,
   "metadata": {},
   "outputs": [],
   "source": [
    "output_groups_dict"
   ]
  },
  {
   "cell_type": "code",
   "execution_count": null,
   "metadata": {},
   "outputs": [],
   "source": []
  }
 ],
 "metadata": {
  "kernelspec": {
   "display_name": "Python 3",
   "language": "python",
   "name": "python3"
  },
  "language_info": {
   "codemirror_mode": {
    "name": "ipython",
    "version": 3
   },
   "file_extension": ".py",
   "mimetype": "text/x-python",
   "name": "python",
   "nbconvert_exporter": "python",
   "pygments_lexer": "ipython3",
   "version": "3.8.3"
  }
 },
 "nbformat": 4,
 "nbformat_minor": 4
}
