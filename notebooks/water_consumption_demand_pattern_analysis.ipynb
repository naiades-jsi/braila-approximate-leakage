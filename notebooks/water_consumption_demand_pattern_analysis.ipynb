{
 "cells": [
  {
   "cell_type": "markdown",
   "metadata": {},
   "source": [
    "## Making demand patterns for epanet based on real data"
   ]
  },
  {
   "cell_type": "code",
   "execution_count": null,
   "metadata": {},
   "outputs": [],
   "source": [
    "import pandas as pd\n",
    "import numpy as np\n",
    "import plotly.express as px\n",
    "import plotly.graph_objects as go\n",
    "from datetime import timedelta\n",
    "\n",
    "import os\n",
    "import sys\n",
    "module_path = os.path.abspath(os.path.join('./..'))\n",
    "if module_path not in sys.path:\n",
    "    sys.path.append(module_path)\n",
    "\n",
    "from src.state_comparator.sensor_data_preparator import load_and_prepare_sensor_data, create_epanet_pressure_df\n",
    "from  src.state_comparator.comparator_functions import compare_real_data_with_simulated\n",
    "import src.configfile as config"
   ]
  },
  {
   "cell_type": "code",
   "execution_count": null,
   "metadata": {},
   "outputs": [],
   "source": [
    "def load_and_prepare_sensor_data(path_to_data_dir, sensor_files, pump_files, pump_column=\"flow_rate_value\"):\n",
    "    # Reads for all the 8 sensors and prepares it in a standard form for comparison\n",
    "    if len(sensor_files) < 1 and len(pump_files) < 1:\n",
    "        raise Exception(\"Files names list must contain at least one string to file !!\")\n",
    "\n",
    "    # official formula: 10^5 / /(1000 * 9,80655) = 10,197\n",
    "    BARS_TO_METERS = 10.197\n",
    "    pumps_time_column_name = \"time\"\n",
    "    pumps_dict   = dict()\n",
    "\n",
    "    for file_name in pump_files:\n",
    "        temp_df = pd.read_csv(path_to_data_dir + file_name)\n",
    "        prepared_df = pd.DataFrame()\n",
    "\n",
    "        # converting to datetime, default values are in unix time\n",
    "        prepared_df[pumps_time_column_name] = pd.to_datetime(temp_df[pumps_time_column_name], unit=\"s\")\n",
    "        # converting analog_2 to pressure in meters\n",
    "        prepared_df[pump_column] = temp_df[pump_column]\n",
    "\n",
    "        # grouping by time, because some rows could be duplicated\n",
    "        pumps_dict[file_name] = prepared_df.groupby(prepared_df[pumps_time_column_name]).mean()\n",
    "\n",
    "    for pump_name in pumps_dict:\n",
    "        pumps_dict[pump_name] = pumps_dict[pump_name].resample(\"1H\").mean()\n",
    "\n",
    "    sensors_pumps_dict = rename_dict_keys_and_merge(pumps_dict)\n",
    "    return sensors_pumps_dict\n",
    "\n",
    "def rename_dict_keys_and_merge(pump_dict, pump_names_dict=None):\n",
    "    sensor_pump_dict_new = dict()\n",
    "\n",
    "    if pump_names_dict is None:\n",
    "        pump_names_dict = dict()\n",
    "        pump_names_dict[\"braila_flow211206H360.csv\"] = \"Jonctiune-3974\"     # (\"Apollo\", \"Jonctiune-3974\"), ,\n",
    "        pump_names_dict[\"braila_flow211106H360.csv\"] = \"Jonctiune-J-3\"      # (\"GA-Braila\", \"Jonctiune-J-3\")\n",
    "        pump_names_dict[\"braila_flow318505H498.csv\"] = \"Jonctiune-J-19\"     # (\"RaduNegru2\", \"Jonctiune-J-19\")\n",
    "        pump_names_dict[\"braila_flow211306H360.csv\"] = \"Jonctiune-2749\"     # (\"RaduNegruMare\", \"Jonctiune-2749\")\n",
    "\n",
    "    for pump in pump_dict:\n",
    "        new_name = pump_names_dict[pump]\n",
    "        sensor_pump_dict_new[new_name] = pump_dict[pump]\n",
    "\n",
    "    return sensor_pump_dict_new"
   ]
  },
  {
   "cell_type": "code",
   "execution_count": null,
   "metadata": {},
   "outputs": [],
   "source": [
    "prepared_data_dict = load_and_prepare_sensor_data(\"./../data/sensor_data/\", config.SENSOR_FILES, config.PUMP_FILES)\n",
    "\"\"\"\n",
    "sensor_names_dict[\"braila_pressure5770.csv\"] = \"SenzorComunarzi-NatVech\"\n",
    "sensor_names_dict[\"braila_pressure5771.csv\"] = \"SenzorComunarzi-castanului\"\n",
    "sensor_names_dict[\"braila_pressure5772.csv\"] = \"SenzorChisinau-Titulescu\"\n",
    "sensor_names_dict[\"braila_pressure5773.csv\"] = \"SenzorCernauti-Sebesului\"\n",
    "pump_names_dict[\"braila_flow211206H360.csv\"] = \"Jonctiune-3974\"     # (\"Apollo\", \"Jonctiune-3974\"), ,\n",
    "pump_names_dict[\"braila_flow211106H360.csv\"] = \"Jonctiune-J-3\"      # (\"GA-Braila\", \"Jonctiune-J-3\")\n",
    "pump_names_dict[\"braila_flow318505H498.csv\"] = \"Jonctiune-J-19\"     # (\"RaduNegru2\", \"Jonctiune-J-19\")\n",
    "pump_names_dict[\"braila_flow211306H360.csv\"] = \"Jonctiune-2749\"     # (\"RaduNegruMare\", \"Jonctiune-2749\")\n",
    "\"\"\"\n",
    "sensor_lit = \"Jonctiune-3974\"\n",
    "display(prepared_data_dict[sensor_lit])"
   ]
  },
  {
   "cell_type": "code",
   "execution_count": null,
   "metadata": {
    "scrolled": false
   },
   "outputs": [],
   "source": [
    "for sensor in prepared_data_dict:\n",
    "    prepared_df = prepared_data_dict[sensor]\n",
    "    prepared_df = prepared_df.loc[(prepared_df.index > pd.to_datetime(\"2021-03-01 10:00:00\") )]\n",
    "    prepared_df\n",
    "    demand_pattern = prepared_df.groupby(prepared_df.index.hour).mean()\n",
    "\n",
    "    # display(demand_pattern)\n",
    "    fig = go.Figure()\n",
    "    fig.add_trace(go.Bar(x=demand_pattern.index, \n",
    "                    y=demand_pattern[\"flow_rate_value\"],\n",
    "                    text=sensor)\n",
    "                 )\n",
    "    fig.update_layout(\n",
    "        title=sensor,\n",
    "        xaxis_title=\"Hour of the day\",\n",
    "        yaxis_title=\"Flow rate value m3/h\",\n",
    "    )\n",
    "    fig.show()\n",
    "    print(demand_pattern[\"flow_rate_value\"].to_numpy())"
   ]
  },
  {
   "cell_type": "code",
   "execution_count": null,
   "metadata": {},
   "outputs": [],
   "source": [
    "# prepared_df[(prepared_df[\"flow_rate_value\"] >= 60)]"
   ]
  },
  {
   "cell_type": "markdown",
   "metadata": {},
   "source": [
    "## Analysis by day of the week"
   ]
  },
  {
   "cell_type": "code",
   "execution_count": null,
   "metadata": {
    "scrolled": false
   },
   "outputs": [],
   "source": [
    "for sensor in prepared_data_dict:\n",
    "    prepared_df = prepared_data_dict[sensor]\n",
    "    prepared_df = prepared_df.loc[(prepared_df.index > pd.to_datetime(\"2021-03-01 10:00:00\") )]\n",
    "\n",
    "    hours_of_the_week = prepared_df.groupby((prepared_df.index.dayofweek) * 24 \n",
    "                                            + (prepared_df.index.hour)).mean().rename_axis('HourOfWeek')\n",
    "\n",
    "    fig = go.Figure()\n",
    "    fig.add_trace(go.Bar(x=hours_of_the_week.index, \n",
    "                    y=hours_of_the_week[\"flow_rate_value\"],\n",
    "                    text=sensor)\n",
    "                 )\n",
    "    fig.update_layout(\n",
    "        title=sensor,\n",
    "        xaxis_title=\"Hour of the week\",\n",
    "        yaxis_title=\"Flow rate value m3/h\",\n",
    "    )\n",
    "    fig.show()\n",
    "    # print(hours_of_the_week[\"flow_rate_value\"].to_numpy())"
   ]
  },
  {
   "cell_type": "code",
   "execution_count": null,
   "metadata": {
    "scrolled": false
   },
   "outputs": [],
   "source": [
    "# (\"Apollo\", \"Jonctiune-3974\"), ,\n",
    "# (\"GA-Braila\", \"Jonctiune-J-3\")\n",
    "# (\"RaduNegru2\", \"Jonctiune-J-19\")\n",
    "# (\"RaduNegruMare\", \"Jonctiune-2749\")\n",
    "def get_day_data_for_sensor(sensor_name, day):\n",
    "    dt_day = pd.to_datetime(day)\n",
    "    dt_next_day = dt_day + timedelta(days=1)\n",
    "    one_day_data = prepared_data_dict[sensor_name]\n",
    "    one_day_data = one_day_data.loc[(one_day_data.index >= dt_day) & (one_day_data.index < dt_next_day)]\n",
    "\n",
    "    hours_of_the_week = one_day_data # one_day_data.groupby(one_day_data.index.hour).mean()\n",
    "    display(hours_of_the_week)\n",
    "    \n",
    "get_day_data_for_sensor(\"Jonctiune-2749\", \"2021-01-01 10:00:00\")"
   ]
  },
  {
   "cell_type": "code",
   "execution_count": null,
   "metadata": {},
   "outputs": [],
   "source": [
    "# display(demand_pattern)"
   ]
  },
  {
   "cell_type": "markdown",
   "metadata": {},
   "source": [
    "## Checking patterns with cumulative flow"
   ]
  },
  {
   "cell_type": "code",
   "execution_count": null,
   "metadata": {
    "scrolled": true
   },
   "outputs": [],
   "source": [
    "prepared_cumulative_data_dict = load_and_prepare_sensor_data(\"./../data/sensor_data/\", config.SENSOR_FILES, \n",
    "                                                             config.PUMP_FILES, \"consumer_totalizer\")\n",
    "\n",
    "sensor_cumulative = \"Jonctiune-3974\"\n",
    "# display(prepared_cumulative_data_dict[sensor_cumulative])"
   ]
  },
  {
   "cell_type": "code",
   "execution_count": null,
   "metadata": {},
   "outputs": [],
   "source": []
  },
  {
   "cell_type": "code",
   "execution_count": null,
   "metadata": {},
   "outputs": [],
   "source": []
  }
 ],
 "metadata": {
  "kernelspec": {
   "display_name": "Python 3 (ipykernel)",
   "language": "python",
   "name": "python3"
  },
  "language_info": {
   "codemirror_mode": {
    "name": "ipython",
    "version": 3
   },
   "file_extension": ".py",
   "mimetype": "text/x-python",
   "name": "python",
   "nbconvert_exporter": "python",
   "pygments_lexer": "ipython3",
   "version": "3.9.7"
  }
 },
 "nbformat": 4,
 "nbformat_minor": 4
}
