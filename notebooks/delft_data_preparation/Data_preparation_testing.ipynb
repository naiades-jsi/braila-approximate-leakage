{
 "cells": [
  {
   "cell_type": "markdown",
   "metadata": {},
   "source": [
    "# Testing data formats for delft"
   ]
  },
  {
   "cell_type": "code",
   "execution_count": null,
   "metadata": {},
   "outputs": [],
   "source": [
    "import pandas as pd\n",
    "import numpy as np\n",
    "import plotly.express as px\n",
    "import plotly.graph_objects as go\n",
    "from datetime import timedelta\n",
    "\n",
    "import os\n",
    "import sys\n",
    "module_path = os.path.abspath(os.path.join('./../..'))\n",
    "if module_path not in sys.path:\n",
    "    sys.path.append(module_path)\n",
    "\n",
    "from src.data_parsing_and_saving.parsing_functions import parse_data_and_save_to_csv\n",
    "import src.configfile as config"
   ]
  },
  {
   "cell_type": "code",
   "execution_count": null,
   "metadata": {},
   "outputs": [],
   "source": [
    "dir_path = \"./../../data/sensor_data/\"\n",
    "sensors = ['SenzorComunarzi-NatVech', 'SenzorComunarzi-castanului', 'SenzorChisinau-Titulescu', 'SenzorCernauti-Sebesului', 'Jonctiune-3974', 'Jonctiune-J-3', 'Jonctiune-2749', 'Jonctiune-J-19']   \n",
    "sampling_interval = \"1H\"  # \"5Min\"\n",
    "sensor_dict = parse_data_and_save_to_csv(dir_path, config.SENSOR_FILES, config.PUMP_FILES, sampling_interval)\n",
    "print(sensor_dict.keys())"
   ]
  },
  {
   "cell_type": "code",
   "execution_count": null,
   "metadata": {
    "scrolled": false
   },
   "outputs": [],
   "source": [
    "for sensor_name in sensor_dict:\n",
    "    curr_df = sensor_dict[sensor_name]\n",
    "    null_df = curr_df[curr_df[\"pressure_value(m)\"].isnull()]\n",
    "    curr_df = curr_df.loc[(curr_df.index > pd.to_datetime(\"2020-12-15 00:00:00\"))]\n",
    "    # curr_df = curr_df.loc[(curr_df.index < pd.to_datetime(\"2021-10-02 00:00:00\"))]\n",
    "    \n",
    "    print(sensor_name, \", Nan values amount: \", len(null_df))\n",
    "    display(curr_df)\n",
    "    curr_df.to_csv(sensor_name + \".csv\", encoding='utf-8')\n",
    "\n",
    "print(\"Konec\")\n",
    "# display(sensor_dict['SenzorComunarzi-NatVech'], sensor_dict['Jonctiune-3974'])"
   ]
  },
  {
   "cell_type": "code",
   "execution_count": null,
   "metadata": {},
   "outputs": [],
   "source": []
  },
  {
   "cell_type": "code",
   "execution_count": null,
   "metadata": {},
   "outputs": [],
   "source": []
  },
  {
   "cell_type": "code",
   "execution_count": null,
   "metadata": {},
   "outputs": [],
   "source": []
  },
  {
   "cell_type": "code",
   "execution_count": null,
   "metadata": {},
   "outputs": [],
   "source": []
  }
 ],
 "metadata": {
  "kernelspec": {
   "display_name": "Python 3 (ipykernel)",
   "language": "python",
   "name": "python3"
  },
  "language_info": {
   "codemirror_mode": {
    "name": "ipython",
    "version": 3
   },
   "file_extension": ".py",
   "mimetype": "text/x-python",
   "name": "python",
   "nbconvert_exporter": "python",
   "pygments_lexer": "ipython3",
   "version": "3.9.7"
  }
 },
 "nbformat": 4,
 "nbformat_minor": 4
}
