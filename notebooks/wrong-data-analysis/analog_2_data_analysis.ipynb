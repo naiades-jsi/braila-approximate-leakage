{
 "cells": [
  {
   "cell_type": "markdown",
   "metadata": {},
   "source": [
    "## Notebook for analysis of wrong analog 2 values"
   ]
  },
  {
   "cell_type": "code",
   "execution_count": null,
   "metadata": {},
   "outputs": [],
   "source": [
    "import pandas as pd\n",
    "import numpy as np\n",
    "import plotly.express as px\n",
    "import plotly.graph_objects as go\n",
    "\n",
    "import os\n",
    "import sys\n",
    "module_path = os.path.abspath(os.path.join('./../..'))\n",
    "if module_path not in sys.path:\n",
    "    sys.path.append(module_path)\n",
    "\n",
    "from src.state_comparator.sensor_data_preparator import load_and_prepare_sensor_data, create_epanet_pressure_df\n",
    "from  src.state_comparator.comparator_functions import compare_real_data_with_simulated\n",
    "import src.configfile as config"
   ]
  },
  {
   "cell_type": "code",
   "execution_count": null,
   "metadata": {
    "scrolled": false
   },
   "outputs": [],
   "source": [
    "prepared_data_dict = load_and_prepare_sensor_data(\"./../../data/sensor_data/\", config.SENSOR_FILES, config.PUMP_FILES)\n",
    "\"\"\"\n",
    "sensor_names_dict[\"braila_pressure5770.csv\"] = \"SenzorComunarzi-NatVech\"\n",
    "sensor_names_dict[\"braila_pressure5771.csv\"] = \"SenzorComunarzi-castanului\"\n",
    "sensor_names_dict[\"braila_pressure5772.csv\"] = \"SenzorChisinau-Titulescu\"\n",
    "sensor_names_dict[\"braila_pressure5773.csv\"] = \"SenzorCernauti-Sebesului\"\n",
    "pump_names_dict[\"braila_flow211206H360.csv\"] = \"Jonctiune-3974\"     # (\"Apollo\", \"Jonctiune-3974\"), ,\n",
    "pump_names_dict[\"braila_flow211106H360.csv\"] = \"Jonctiune-J-3\"      # (\"GA-Braila\", \"Jonctiune-J-3\")\n",
    "pump_names_dict[\"braila_flow318505H498.csv\"] = \"Jonctiune-J-19\"     # (\"RaduNegru2\", \"Jonctiune-J-19\")\n",
    "pump_names_dict[\"braila_flow211306H360.csv\"] = \"Jonctiune-2749\"     # (\"RaduNegruMare\", \"Jonctiune-2749\")\n",
    "\"\"\"\n",
    "# display(prepared_data_dict[\"Jonctiune-3974\"])\n",
    "display(prepared_data_dict[\"SenzorComunarzi-castanului\"])"
   ]
  },
  {
   "cell_type": "markdown",
   "metadata": {},
   "source": [
    "## Values at which sensors were zero"
   ]
  },
  {
   "cell_type": "code",
   "execution_count": null,
   "metadata": {
    "scrolled": false
   },
   "outputs": [],
   "source": [
    "# (\"Apollo\", \"748-B\"), ,\n",
    "# (\"GA-Braila\", \"751-B\")\n",
    "# (\"RaduNegruMare\", \"763-B\")\n",
    "# (\"RaduNegru2\", \"760-B\")\n",
    "\n",
    "sensor_names = [\"Jonctiune-3974\", \"Jonctiune-J-3\", \"Jonctiune-J-19\", \"Jonctiune-2749\", \"SenzorComunarzi-NatVech\", \n",
    "                \"SenzorComunarzi-castanului\", \"SenzorChisinau-Titulescu\", \"SenzorCernauti-Sebesului\"]\n",
    "for node_name in sensor_names:\n",
    "    print(\"---------------------------------------------------\")\n",
    "    print(\"---------------------------------------------------\")\n",
    "    print(\"Node: \", node_name)\n",
    "    prepared_data_dict[node_name] = prepared_data_dict[node_name].loc[(prepared_data_dict[node_name].index \n",
    "                                                                       > pd.to_datetime(\"2020-12-14 10:00:00\") )]\n",
    "    \n",
    "    negative_data = prepared_data_dict[node_name][(prepared_data_dict[node_name][\"value\"] < 0)]  \n",
    "    nan_data = prepared_data_dict[node_name][(prepared_data_dict[node_name][\"value\"].isna() == True)]\n",
    "    display(\"negative values\", negative_data)\n",
    "    display(\"nan values\", nan_data)"
   ]
  },
  {
   "cell_type": "markdown",
   "metadata": {},
   "source": [
    "## Comparison between simulated and real"
   ]
  },
  {
   "cell_type": "code",
   "execution_count": null,
   "metadata": {},
   "outputs": [],
   "source": [
    "day_which_to_compare = \"2021-04-12\"\n",
    "\n",
    "epanet_simulated_df = create_epanet_pressure_df(\"./../../data/epanet_networks//RaduNegru24May2021_2.2.inp\", \n",
    "                                                selected_nodes=sensor_names)"
   ]
  },
  {
   "cell_type": "code",
   "execution_count": null,
   "metadata": {},
   "outputs": [],
   "source": [
    "sensor_day_df = pd.DataFrame()\n",
    "\n",
    "for sensor_key in prepared_data_dict:\n",
    "    temp_df = prepared_data_dict[sensor_key]\n",
    "    specific_day_df = temp_df[temp_df.index.floor('D') == day_which_to_compare]\n",
    "\n",
    "    if len(specific_day_df.index) != 24:\n",
    "        raise Exception(\"Not enough values for specified day ! Name: \" + sensor_key)\n",
    "        \n",
    "    df_hours = specific_day_df.index.hour\n",
    "    specific_day_df.index = df_hours\n",
    "\n",
    "    # Check if arrays contain NaN values\n",
    "    if np.isnan(np.sum(specific_day_df.to_numpy().flatten())):\n",
    "        raise Exception(\"Data for simulated day contains NaN values, please choose another day !\")\n",
    "        \n",
    "    sensor_day_df[sensor_key] = pd.Series(specific_day_df.to_numpy().flatten(), index=specific_day_df.index)\n",
    "    \n",
    "reordered_df = sensor_day_df.filter(epanet_simulated_df.columns)"
   ]
  },
  {
   "cell_type": "code",
   "execution_count": null,
   "metadata": {},
   "outputs": [],
   "source": [
    "print(\"Day: \" + day_which_to_compare)\n",
    "display(\"Simulated \", epanet_simulated_df)\n",
    "display(\"Real \", reordered_df)"
   ]
  },
  {
   "cell_type": "code",
   "execution_count": null,
   "metadata": {},
   "outputs": [],
   "source": [
    "compare_real_data_with_simulated(prepared_data_dict, epanet_simulated_df, day_which_to_compare=\"2021-04-12\")"
   ]
  },
  {
   "cell_type": "code",
   "execution_count": null,
   "metadata": {},
   "outputs": [],
   "source": []
  }
 ],
 "metadata": {
  "kernelspec": {
   "display_name": "Python 3",
   "language": "python",
   "name": "python3"
  },
  "language_info": {
   "codemirror_mode": {
    "name": "ipython",
    "version": 3
   },
   "file_extension": ".py",
   "mimetype": "text/x-python",
   "name": "python",
   "nbconvert_exporter": "python",
   "pygments_lexer": "ipython3",
   "version": "3.8.3"
  }
 },
 "nbformat": 4,
 "nbformat_minor": 4
}
