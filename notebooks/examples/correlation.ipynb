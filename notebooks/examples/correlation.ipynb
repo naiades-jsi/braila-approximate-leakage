{
 "cells": [
  {
   "cell_type": "markdown",
   "metadata": {},
   "source": [
    "# Divergence matrix data and hour correlation"
   ]
  },
  {
   "cell_type": "code",
   "execution_count": null,
   "metadata": {},
   "outputs": [],
   "source": [
    "import os\n",
    "import sys\n",
    "module_path = os.path.abspath(os.path.join('./../..'))\n",
    "if module_path not in sys.path:\n",
    "    sys.path.append(module_path)\n",
    "\n",
    "from src.divergence_matrix.DivergenceMatrixProcessor import DivergenceMatrixProcessor\n",
    "from src.state_comparator.comparator_functions import *\n",
    "\n",
    "divergence_instance = DivergenceMatrixProcessor(\"./../../data/divergence_matrix/Divergence_M.pickle\")"
   ]
  },
  {
   "cell_type": "markdown",
   "metadata": {},
   "source": [
    "Divegence data is original form."
   ]
  },
  {
   "cell_type": "code",
   "execution_count": null,
   "metadata": {},
   "outputs": [],
   "source": [
    "sensor = \"SenzorComunarzi-NatVech\"\n",
    "\n",
    "df_main = divergence_instance.extract_df_with_specific_leak_on_one_node(4.00, sensor)\n",
    "display(df_main)"
   ]
  },
  {
   "cell_type": "code",
   "execution_count": null,
   "metadata": {},
   "outputs": [],
   "source": [
    "df_main[3600].plot.kde()"
   ]
  },
  {
   "cell_type": "code",
   "execution_count": null,
   "metadata": {},
   "outputs": [],
   "source": [
    "df_main[3600].plot.hist(bins=12, alpha=0.5)"
   ]
  },
  {
   "cell_type": "code",
   "execution_count": null,
   "metadata": {},
   "outputs": [],
   "source": [
    "df_main.plot.hist(bins=12, alpha=0.5, figsize=(20,10))"
   ]
  },
  {
   "cell_type": "markdown",
   "metadata": {},
   "source": [
    "## Example of hour correlation"
   ]
  },
  {
   "cell_type": "code",
   "execution_count": null,
   "metadata": {},
   "outputs": [],
   "source": [
    "df_order_corr, df_basic_corr = divergence_instance.calculate_column_correlation(16.0, sensor)\n",
    "display(df_order_corr, df_basic_corr)"
   ]
  },
  {
   "cell_type": "code",
   "execution_count": null,
   "metadata": {},
   "outputs": [],
   "source": []
  },
  {
   "cell_type": "markdown",
   "metadata": {},
   "source": [
    "## Calculation for all of the sensors"
   ]
  },
  {
   "cell_type": "code",
   "execution_count": null,
   "metadata": {},
   "outputs": [],
   "source": [
    "sensors = [\"SenzorComunarzi-NatVech\", \"SenzorCernauti-Sebesului\", \"SenzorChisinau-Titulescu\", \n",
    "           \"SenzorComunarzi-castanului\", \"Jonctiune-3974\", \"Jonctiune-J-3\", \"Jonctiune-J-19\", \"Jonctiune-2749\"]\n",
    "\n",
    "order_df = None\n",
    "basic_df = None\n",
    "for sensor in sensors:\n",
    "    print(sensor)\n",
    "    df_order_corr_temp, df_basic_corr_temp = divergence_instance.calculate_column_correlation(16.0, sensor)\n",
    "    \n",
    "    if order_df is None and basic_df is None:\n",
    "        order_df = df_order_corr_temp\n",
    "        basic_df = df_basic_corr_temp\n",
    "    else:\n",
    "        order_df = order_df.add(df_order_corr_temp)     \n",
    "        basic_df = basic_df.add(df_basic_corr_temp)        \n",
    "        # display(basic_df)\n",
    "        \n",
    "order_df = order_df.div(len(sensors))\n",
    "basic_df = basic_df.div(len(sensors))"
   ]
  },
  {
   "cell_type": "code",
   "execution_count": null,
   "metadata": {},
   "outputs": [],
   "source": [
    "display(order_df, basic_df)"
   ]
  },
  {
   "cell_type": "code",
   "execution_count": null,
   "metadata": {},
   "outputs": [],
   "source": [
    "display(order_df.mean(), basic_df.mean())"
   ]
  }
 ],
 "metadata": {
  "kernelspec": {
   "display_name": "Python 3",
   "language": "python",
   "name": "python3"
  },
  "language_info": {
   "codemirror_mode": {
    "name": "ipython",
    "version": 3
   },
   "file_extension": ".py",
   "mimetype": "text/x-python",
   "name": "python",
   "nbconvert_exporter": "python",
   "pygments_lexer": "ipython3",
   "version": "3.8.3"
  }
 },
 "nbformat": 4,
 "nbformat_minor": 4
}
