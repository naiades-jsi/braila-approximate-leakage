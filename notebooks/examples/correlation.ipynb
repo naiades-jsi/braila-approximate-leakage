{
 "cells": [
  {
   "cell_type": "markdown",
   "metadata": {},
   "source": [
    "# Divergence matrix data and hour correlation"
   ]
  },
  {
   "cell_type": "code",
   "execution_count": null,
   "metadata": {},
   "outputs": [],
   "source": [
    "import os\n",
    "import numpy as np\n",
    "import sys\n",
    "module_path = os.path.abspath(os.path.join('./../..'))\n",
    "if module_path not in sys.path:\n",
    "    sys.path.append(module_path)\n",
    "\n",
    "from src.divergence_matrix.DivergenceMatrixProcessor import DivergenceMatrixProcessor\n",
    "from src.state_comparator.comparator_functions import *\n",
    "\n",
    "divergence_instance = DivergenceMatrixProcessor(\"./../../data/divergence_matrix/Divergence_M.pickle\")"
   ]
  },
  {
   "cell_type": "markdown",
   "metadata": {},
   "source": [
    "Divegence data is original form."
   ]
  },
  {
   "cell_type": "code",
   "execution_count": null,
   "metadata": {},
   "outputs": [],
   "source": [
    "sensor = \"SenzorComunarzi-NatVech\"\n",
    "\n",
    "df_main = divergence_instance.extract_df_with_specific_leak_on_one_node(4.00, sensor)\n",
    "display(df_main)"
   ]
  },
  {
   "cell_type": "code",
   "execution_count": null,
   "metadata": {},
   "outputs": [],
   "source": [
    "df_main[3600].plot.kde()"
   ]
  },
  {
   "cell_type": "code",
   "execution_count": null,
   "metadata": {},
   "outputs": [],
   "source": [
    "df_main[3600].plot.hist(bins=12, alpha=0.5)"
   ]
  },
  {
   "cell_type": "code",
   "execution_count": null,
   "metadata": {},
   "outputs": [],
   "source": [
    "df_main.plot.hist(bins=12, alpha=0.5, figsize=(20,10))"
   ]
  },
  {
   "cell_type": "markdown",
   "metadata": {},
   "source": [
    "## Example of hour correlation"
   ]
  },
  {
   "cell_type": "code",
   "execution_count": null,
   "metadata": {},
   "outputs": [],
   "source": [
    "df_order_corr, df_basic_corr = divergence_instance.calculate_column_correlation(16.0, sensor)\n",
    "display(df_order_corr, df_basic_corr)"
   ]
  },
  {
   "cell_type": "markdown",
   "metadata": {},
   "source": [
    "### Vizualization for deliverable "
   ]
  },
  {
   "cell_type": "code",
   "execution_count": null,
   "metadata": {
    "scrolled": true
   },
   "outputs": [],
   "source": [
    "import plotly\n",
    "import plotly.graph_objects as go\n",
    "\n",
    "def plot_3d_hour_correlation(sensor_name):\n",
    "    order_df, corr_df = divergence_instance.calculate_column_correlation(16.0, sensor_name)\n",
    "    correlation_tup_arr = []\n",
    "    for hour_second_1 in range(3600, 86401, 3600):\n",
    "        for hour_second_2 in range(3600, 86401, 3600):\n",
    "            if hour_second_1 == hour_second_2:\n",
    "                continue\n",
    "            corr_tup = (hour_second_1, hour_second_2, corr_df.at[hour_second_1, hour_second_2])\n",
    "            correlation_tup_arr.append(corr_tup)\n",
    "\n",
    "    x = [int(i[0] / 3600)  for i in correlation_tup_arr]\n",
    "    y = [int(i[1] / 3600) for i in correlation_tup_arr]\n",
    "    z = [i[2] for i in correlation_tup_arr]\n",
    "    fig = go.Figure(data=[go.Scatter3d(\n",
    "        x=x, y=y, z=z,\n",
    "        mode='markers' \n",
    "    )])\n",
    "    # scene = dict(zaxis = dict(range=[0,1])),\n",
    "    fig.update_layout(\n",
    "        title=\"Hour correlation\",\n",
    "        xaxis_title=\"Hour of the day 1\",\n",
    "        yaxis_title=\"Hour of the day 2\",\n",
    "        scene = dict(zaxis = dict(title=\"Correlation between x and y\"))\n",
    "    )\n",
    "    fig.show()\n",
    "    \n",
    "sensors = [\"SenzorComunarzi-NatVech\", \"SenzorCernauti-Sebesului\", \"SenzorChisinau-Titulescu\", \n",
    "           \"SenzorComunarzi-castanului\", \"Jonctiune-3974\", \"Jonctiune-J-3\", \"Jonctiune-J-19\", \n",
    "           \"Jonctiune-2749\"]\n",
    "\n",
    "# for sensor_i in sensors:\n",
    "# print(sensor_i)\n",
    "# plot_3d_hour_correlation(sensor_i)"
   ]
  },
  {
   "cell_type": "code",
   "execution_count": null,
   "metadata": {},
   "outputs": [],
   "source": []
  },
  {
   "cell_type": "code",
   "execution_count": null,
   "metadata": {},
   "outputs": [],
   "source": []
  },
  {
   "cell_type": "markdown",
   "metadata": {},
   "source": [
    "## Calculation for all of the sensors"
   ]
  },
  {
   "cell_type": "code",
   "execution_count": null,
   "metadata": {
    "scrolled": true
   },
   "outputs": [],
   "source": [
    "sensors = [\"SenzorComunarzi-NatVech\", \"SenzorCernauti-Sebesului\", \"SenzorChisinau-Titulescu\", \n",
    "           \"SenzorComunarzi-castanului\", \"Jonctiune-3974\", \"Jonctiune-J-3\", \"Jonctiune-J-19\", \"Jonctiune-2749\"]\n",
    "\n",
    "order_df = None\n",
    "basic_df = None\n",
    "for sensor in sensors:\n",
    "    print(sensor)\n",
    "    df_order_corr_temp, df_basic_corr_temp = divergence_instance.calculate_column_correlation(16.0, sensor)\n",
    "    \n",
    "    if order_df is None and basic_df is None:\n",
    "        order_df = df_order_corr_temp\n",
    "        basic_df = df_basic_corr_temp\n",
    "    else:\n",
    "        order_df = order_df.add(df_order_corr_temp)     \n",
    "        basic_df = basic_df.add(df_basic_corr_temp)        \n",
    "        display(basic_df)\n",
    "        \n",
    "order_df = order_df.div(len(sensors))\n",
    "basic_df = basic_df.div(len(sensors))\n",
    "\n",
    "# setting diagonal to 0 since it is always 0 and doesn't really mean anything\n",
    "for i in range(0, 24):\n",
    "    order_df.iat[i, i] = np.nan\n",
    "    basic_df.iat[i, i] = np.nan"
   ]
  },
  {
   "cell_type": "code",
   "execution_count": null,
   "metadata": {},
   "outputs": [],
   "source": [
    "display(order_df, basic_df)"
   ]
  },
  {
   "cell_type": "code",
   "execution_count": null,
   "metadata": {},
   "outputs": [],
   "source": [
    "display(order_df.mean(), basic_df.mean())"
   ]
  },
  {
   "cell_type": "code",
   "execution_count": null,
   "metadata": {},
   "outputs": [],
   "source": []
  },
  {
   "cell_type": "markdown",
   "metadata": {},
   "source": [
    "### Vizualization of elements change in the groups"
   ]
  },
  {
   "cell_type": "code",
   "execution_count": null,
   "metadata": {},
   "outputs": [],
   "source": [
    "display(basic_df)\n",
    "average_corr_basic_df = basic_df.mean().round(5)\n",
    "\n",
    "x_i = [i//3600 for i in average_corr_basic_df.index]\n",
    "fig = go.Figure(data=[go.Scatter(\n",
    "    x=x_i, \n",
    "    y=average_corr_basic_df.values *100, \n",
    "    mode='lines+markers'\n",
    ")])\n",
    "\n",
    "fig.update_layout(\n",
    "    title=\"Average correlation between hours and nodes within main group\",\n",
    "    xaxis_title=\"Hour of the day\",\n",
    "    yaxis_title=\"Percent of the same nodes in the group\",\n",
    ")\n",
    "fig.show()\n",
    "\n",
    "average_corr_order_df = order_df.mean().round(5)\n",
    "\n",
    "x_i = [i//3600 for i in average_corr_order_df.index]\n",
    "fig = go.Figure(data=[go.Scatter(\n",
    "    x=x_i, \n",
    "    y=average_corr_order_df.values *100, \n",
    "    mode='lines+markers'\n",
    ")])\n",
    "\n",
    "fig.update_layout(\n",
    "    title=\"Hour correlation\",\n",
    "    xaxis_title=\"Hour of the day\",\n",
    "    yaxis_title=\"Percent of nodes that are the same in the group\",\n",
    ")\n",
    "fig.show()"
   ]
  },
  {
   "cell_type": "code",
   "execution_count": null,
   "metadata": {},
   "outputs": [],
   "source": []
  },
  {
   "cell_type": "code",
   "execution_count": null,
   "metadata": {},
   "outputs": [],
   "source": []
  },
  {
   "cell_type": "code",
   "execution_count": null,
   "metadata": {},
   "outputs": [],
   "source": [
    "\"\"\"fig = go.Figure(data=go.Scatter(\n",
    "    x=[i[0] for i in correlation_tup_arr], \n",
    "    y=[i[2] for i in correlation_tup_arr], \n",
    "    mode='markers'))\n",
    "\n",
    "x = list(set([i[0] for i in correlation_tup_arr]))\n",
    "y = list(set([i[1] for i in correlation_tup_arr]))\n",
    "z = df_basic_corr.values # [i for i in correlation_tup_arr]\n",
    "# print(x, y, z)\n",
    "fig = go.Figure(data=[go.Surface(z=z, x=x, y=y)])\"\"\";"
   ]
  }
 ],
 "metadata": {
  "kernelspec": {
   "display_name": "Python 3 (ipykernel)",
   "language": "python",
   "name": "python3"
  },
  "language_info": {
   "codemirror_mode": {
    "name": "ipython",
    "version": 3
   },
   "file_extension": ".py",
   "mimetype": "text/x-python",
   "name": "python",
   "nbconvert_exporter": "python",
   "pygments_lexer": "ipython3",
   "version": "3.9.7"
  }
 },
 "nbformat": 4,
 "nbformat_minor": 4
}
