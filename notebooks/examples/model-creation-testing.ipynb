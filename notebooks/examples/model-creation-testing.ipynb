{
 "cells": [
  {
   "cell_type": "markdown",
   "metadata": {},
   "source": [
    "# Testing models for node group finding"
   ]
  },
  {
   "cell_type": "code",
   "execution_count": null,
   "metadata": {},
   "outputs": [],
   "source": [
    "import os\n",
    "import sys\n",
    "import plotly.express as px\n",
    "import plotly.graph_objects as go\n",
    "\n",
    "\n",
    "module_path = os.path.abspath(os.path.join('./../..'))\n",
    "if module_path not in sys.path:\n",
    "    sys.path.append(module_path)\n",
    "\n",
    "from src.divergence_matrix.DivergenceMatrixProcessor import DivergenceMatrixProcessor\n",
    "from src.state_comparator.comparator_functions import *\n",
    "\n",
    "from src.helper_functions import pretty_print\n",
    "import src.configfile as config"
   ]
  },
  {
   "cell_type": "code",
   "execution_count": null,
   "metadata": {},
   "outputs": [],
   "source": []
  },
  {
   "cell_type": "markdown",
   "metadata": {},
   "source": [
    "## Ploting data for all 8 sensors"
   ]
  },
  {
   "cell_type": "code",
   "execution_count": null,
   "metadata": {},
   "outputs": [],
   "source": [
    "SELECTED_NODES = [\"SenzorComunarzi-NatVech\", \"SenzorCernauti-Sebesului\", \"SenzorChisinau-Titulescu\",\n",
    "                  \"SenzorComunarzi-castanului\", \"Jonctiune-3974\", \"Jonctiune-J-3\", \"Jonctiune-J-19\", \"Jonctiune-2749\"]\n",
    "instance = DivergenceMatrixProcessor(\"./../../data/divergence_matrix/Divergence_M.pickle\")"
   ]
  },
  {
   "cell_type": "code",
   "execution_count": null,
   "metadata": {
    "scrolled": false
   },
   "outputs": [],
   "source": [
    "for node in SELECTED_NODES:\n",
    "    print(node)\n",
    "    arr_of_nodes, data_df = instance.nodes_which_effect_the_sensors_most(16.0, node)\n",
    "\n",
    "    fig = go.Figure()\n",
    "    for column in data_df.columns:\n",
    "        temp = [column for i in range(len(data_df[column]))]\n",
    "\n",
    "\n",
    "        fig.add_trace(go.Scattergl(\n",
    "                                x=temp, \n",
    "                                y=data_df[column],\n",
    "                                text=data_df[column].index,\n",
    "                                mode='markers',\n",
    "                                name=column))\n",
    "        fig.update_layout(\n",
    "            xaxis_title=\"Seconds\",\n",
    "            yaxis_title=\"Pressure difference\",\n",
    "        )\n",
    "\n",
    "    fig.show()"
   ]
  },
  {
   "cell_type": "markdown",
   "metadata": {},
   "source": [
    "## Testing different clustering/statistical approaches\n",
    "Kernel density estimation and Jenks natural breaks optimization should be used for the analysis"
   ]
  },
  {
   "cell_type": "code",
   "execution_count": null,
   "metadata": {},
   "outputs": [],
   "source": [
    "sensor_node = \"Jonctiune-J-19\"\n",
    "time_of_day = 36000\n",
    "\n",
    "node_arr, test_data_df = instance.nodes_which_effect_the_sensors_most(16.0, sensor_node)\n",
    "test_data_df"
   ]
  },
  {
   "cell_type": "markdown",
   "metadata": {},
   "source": [
    "### Kernel density estimation\n",
    "\n"
   ]
  },
  {
   "cell_type": "code",
   "execution_count": null,
   "metadata": {},
   "outputs": [],
   "source": [
    "test_data_df[36000].plot.kde()"
   ]
  },
  {
   "cell_type": "markdown",
   "metadata": {},
   "source": [
    "### Jenks natural breaks optimization\n",
    "\n",
    "\n",
    "https://stats.stackexchange.com/questions/143974/jenks-natural-breaks-in-python-how-to-find-the-optimum-number-of-breaks    \n",
    "https://github.com/mthh/jenkspy"
   ]
  },
  {
   "cell_type": "code",
   "execution_count": null,
   "metadata": {},
   "outputs": [],
   "source": [
    "break_data = test_data_df[time_of_day].values\n",
    "break_data.sort()\n",
    "display(break_data)\n",
    "display(test_data_df[time_of_day].mean())"
   ]
  },
  {
   "cell_type": "code",
   "execution_count": null,
   "metadata": {},
   "outputs": [],
   "source": [
    "import jenkspy\n",
    "breaks = jenkspy.jenks_breaks(break_data, nb_class=3)\n",
    "\n",
    "fig = go.Figure()\n",
    "\n",
    "fig.add_trace(\n",
    "    go.Histogram(x=data_df[time_of_day])\n",
    ")\n",
    "print(max(break_data))    \n",
    "    \n",
    "for break_value in breaks:\n",
    "    fig.add_shape(\n",
    "            go.layout.Shape(type='line', xref='x', yref='paper',\n",
    "                            x0=break_value, y0=0, x1=break_value, y1=1.0, \n",
    "                              line=dict(\n",
    "                                color=\"green\",\n",
    "                                width=3,\n",
    "                                dash=\"dash\",\n",
    "                            ),\n",
    "                            name=str(break_value)\n",
    "                           )\n",
    "                           \n",
    "    )\n",
    "\n",
    "fig.show()\n",
    "display(str(breaks))"
   ]
  },
  {
   "cell_type": "code",
   "execution_count": null,
   "metadata": {},
   "outputs": [],
   "source": []
  },
  {
   "cell_type": "code",
   "execution_count": null,
   "metadata": {},
   "outputs": [],
   "source": []
  },
  {
   "cell_type": "code",
   "execution_count": null,
   "metadata": {},
   "outputs": [],
   "source": []
  },
  {
   "cell_type": "code",
   "execution_count": null,
   "metadata": {},
   "outputs": [],
   "source": []
  }
 ],
 "metadata": {
  "kernelspec": {
   "display_name": "Python 3",
   "language": "python",
   "name": "python3"
  },
  "language_info": {
   "codemirror_mode": {
    "name": "ipython",
    "version": 3
   },
   "file_extension": ".py",
   "mimetype": "text/x-python",
   "name": "python",
   "nbconvert_exporter": "python",
   "pygments_lexer": "ipython3",
   "version": "3.8.3"
  }
 },
 "nbformat": 4,
 "nbformat_minor": 4
}
