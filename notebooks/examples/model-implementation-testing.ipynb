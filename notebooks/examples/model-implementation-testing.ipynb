{
 "cells": [
  {
   "cell_type": "markdown",
   "metadata": {},
   "source": [
    "# Testing newest implementation of groups assigment"
   ]
  },
  {
   "cell_type": "code",
   "execution_count": null,
   "metadata": {},
   "outputs": [],
   "source": [
    "import os\n",
    "import sys\n",
    "import plotly.express as px\n",
    "import plotly.graph_objects as go\n",
    "\n",
    "\n",
    "module_path = os.path.abspath(os.path.join('./../..'))\n",
    "if module_path not in sys.path:\n",
    "    sys.path.append(module_path)\n",
    "\n",
    "from src.divergence_matrix.DivergenceMatrixProcessor import DivergenceMatrixProcessor\n",
    "from src.state_comparator.comparator_functions import *\n",
    "\n",
    "from src.helper_functions import pretty_print\n",
    "import src.configfile as config\n",
    "\n",
    "instance = DivergenceMatrixProcessor(\"./../../data/divergence_matrix/Divergence_M.pickle\")"
   ]
  },
  {
   "cell_type": "code",
   "execution_count": null,
   "metadata": {
    "scrolled": true
   },
   "outputs": [],
   "source": [
    "leak_amt = 16.0\n",
    "sensor_node = \"Jonctiune-3974\"\n",
    "# descending_values, jenks_natural_breaks\n",
    "groups_dict = instance.get_affected_nodes_groups(16.0, sensor_node, num_of_groups=3, method=\"jenks_natural_breaks\")\n",
    "\n",
    "print(\"Dict of nodes and their influence group\")\n",
    "groups_dict"
   ]
  },
  {
   "cell_type": "markdown",
   "metadata": {},
   "source": [
    "## Optimal number of groups"
   ]
  },
  {
   "cell_type": "code",
   "execution_count": null,
   "metadata": {},
   "outputs": [],
   "source": [
    "from jenkspy import jenks_breaks\n",
    "import numpy as np\n",
    "\n",
    "def goodness_of_variance_fit(array, classes):\n",
    "    # get the break points\n",
    "    classes = jenks_breaks(array, classes)\n",
    "\n",
    "    # do the actual classification\n",
    "    classified = np.array([classify(i, classes) for i in array])\n",
    "\n",
    "    # max value of zones\n",
    "    maxz = max(classified)\n",
    "\n",
    "    # nested list of zone indices\n",
    "    zone_indices = [[idx for idx, val in enumerate(classified) if zone + 1 == val] for zone in range(maxz)]\n",
    "\n",
    "    # sum of squared deviations from array mean\n",
    "    sdam = np.sum((array - array.mean()) ** 2)\n",
    "\n",
    "    # sorted polygon stats\n",
    "    array_sort = [np.array([array[index] for index in zone]) for zone in zone_indices]\n",
    "\n",
    "    # sum of squared deviations of class means\n",
    "    sdcm = sum([np.sum((classified - classified.mean()) ** 2) for classified in array_sort])\n",
    "\n",
    "    # goodness of variance fit\n",
    "    gvf = (sdam - sdcm) / sdam\n",
    "\n",
    "    return gvf\n",
    "\n",
    "def classify(value, breaks):\n",
    "    for i in range(1, len(breaks)):\n",
    "        if value < breaks[i]:\n",
    "            return i\n",
    "    return len(breaks) - 1"
   ]
  },
  {
   "cell_type": "code",
   "execution_count": null,
   "metadata": {},
   "outputs": [],
   "source": [
    "# [\"SenzorComunarzi-NatVech\", \"SenzorCernauti-Sebesului\", \"SenzorChisinau-Titulescu\",\n",
    "#                 \"SenzorComunarzi-castanului\", \"Jonctiune-3974\", \"Jonctiune-J-3\", \"Jonctiune-J-19\", \"Jonctiune-2749\"]\n",
    "sensor_node = \"SenzorComunarzi-NatVech\"\n",
    "time_stamp = 36000\n",
    "series_at_timestamp = instance.extract_df_with_specific_leak_on_one_node(leak_amt, sensor_node)[time_stamp]\n",
    "sorted_df_at_timestamp = series_at_timestamp.sort_values(ascending=True).reset_index()\n",
    "series_len = len(sorted_df_at_timestamp)\n",
    "sorted_arr = sorted_df_at_timestamp[time_stamp].to_numpy()\n",
    "# display(sorted_arr)"
   ]
  },
  {
   "cell_type": "code",
   "execution_count": null,
   "metadata": {},
   "outputs": [],
   "source": [
    "gvf = 0.0\n",
    "nclasses = 2\n",
    "while nclasses < 20:\n",
    "    gvf = goodness_of_variance_fit(sorted_arr, nclasses)\n",
    "    print(\"classes \", nclasses, \"gvf\", gvf)\n",
    "    nclasses += 1"
   ]
  },
  {
   "cell_type": "code",
   "execution_count": null,
   "metadata": {},
   "outputs": [],
   "source": []
  }
 ],
 "metadata": {
  "kernelspec": {
   "display_name": "Python 3",
   "language": "python",
   "name": "python3"
  },
  "language_info": {
   "codemirror_mode": {
    "name": "ipython",
    "version": 3
   },
   "file_extension": ".py",
   "mimetype": "text/x-python",
   "name": "python",
   "nbconvert_exporter": "python",
   "pygments_lexer": "ipython3",
   "version": "3.8.3"
  }
 },
 "nbformat": 4,
 "nbformat_minor": 4
}
